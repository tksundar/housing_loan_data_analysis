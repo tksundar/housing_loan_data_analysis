{
  "cells": [
    {
      "cell_type": "markdown",
      "metadata": {
        "id": "s7BUEFauhvZx"
      },
      "source": [
        "Problem Statement:  \n",
        "For a safe and secure lending experience, it's important to analyze the past data. In this project, you have to build a deep learning model to predict the chance of default for future loans using historical data. As you will see, this dataset is highly imbalanced and includes a lot of features that make this problem more challenging.\n",
        "\n",
        "\n",
        "**Objective:**\n",
        "\n",
        "Create a model that predicts whether or not an applicant will be able to repay a loan using historical data\n",
        "\n",
        "\n",
        "**Domain:** Finance\n",
        "\n",
        "**Analysis to be done:**\n",
        "\n",
        "Perform data preprocessing and build a deep learning prediction model\n",
        "\n",
        "**Steps to be done**\n",
        "\n",
        "1.   Load the dataset that is given to youList item\n",
        "2.  Check for null values in the dataset\n",
        "3.   Print the percentage of default to a payer of the dataset for the TARGET column\n",
        "4.  Balance the dataset if the data is imbalanced\n",
        "5.  Plot the balanced or imbalanced data\n",
        "6.  \tEncode the columns that are required for the model\n",
        "7. Calculate sensitivity as a metric\n",
        "8.   Calculate the area under the receiver operating characteristics curve\n",
        "\n",
        "\n",
        "\n",
        "\n",
        "\n",
        "\n",
        "\n"
      ]
    },
    {
      "cell_type": "markdown",
      "metadata": {
        "id": "G9yt-o65u2pu"
      },
      "source": [
        "#Housing Loan Defaulter Prediction"
      ]
    },
    {
      "cell_type": "markdown",
      "metadata": {
        "id": "QXzpbtVVvHFh"
      },
      "source": [
        "##Mount Google Drive"
      ]
    },
    {
      "cell_type": "code",
      "execution_count": 1,
      "metadata": {
        "colab": {
          "base_uri": "https://localhost:8080/"
        },
        "id": "renPMZKZmg2V",
        "outputId": "319adb94-91e8-4faa-b55e-95804cc44ea0"
      },
      "outputs": [
        {
          "name": "stdout",
          "output_type": "stream",
          "text": [
            "Mounted at /content/drive\n"
          ]
        }
      ],
      "source": [
        "from google.colab import drive\n",
        "drive.mount('/content/drive')"
      ]
    },
    {
      "cell_type": "markdown",
      "metadata": {
        "id": "0TcpsD8XgfYC"
      },
      "source": [
        "**Load Dataset**"
      ]
    },
    {
      "cell_type": "markdown",
      "metadata": {
        "id": "IbMB33CivLr0"
      },
      "source": [
        "##Load Dataset"
      ]
    },
    {
      "cell_type": "code",
      "execution_count": 2,
      "metadata": {
        "colab": {
          "base_uri": "https://localhost:8080/"
        },
        "id": "grbrguvBqWzi",
        "outputId": "e8df5d03-0c0a-4dbf-8ec7-eac9d1817c54"
      },
      "outputs": [
        {
          "name": "stdout",
          "output_type": "stream",
          "text": [
            "(307511, 122)\n"
          ]
        }
      ],
      "source": [
        "import pandas as pd\n",
        "import matplotlib.pyplot as plt\n",
        "import seaborn as sns\n",
        "import warnings\n",
        "warnings.filterwarnings('ignore')\n",
        "\n",
        "loan_data = pd.read_csv('/content/drive/MyDrive/ML/loan_data.csv')\n",
        "print(loan_data.shape)\n"
      ]
    },
    {
      "cell_type": "markdown",
      "metadata": {
        "id": "fzkwi5pYmEys"
      },
      "source": [
        "Data is 122 columns, but we may not need all those columns. We will first extract features that have a meaningful correlation with TARGET and then check of null values and outliers for those features\n",
        "\n"
      ]
    },
    {
      "cell_type": "markdown",
      "metadata": {
        "id": "2mBV3W2svdu-"
      },
      "source": [
        "##Get features with correlation > 0.03 with TARGET"
      ]
    },
    {
      "cell_type": "code",
      "execution_count": 3,
      "metadata": {
        "colab": {
          "base_uri": "https://localhost:8080/",
          "height": 833
        },
        "id": "GMKW2ApCl-N6",
        "outputId": "41b7f37b-8b13-4f64-c06a-3ad2e2818eb5"
      },
      "outputs": [
        {
          "data": {
            "application/vnd.google.colaboratory.intrinsic+json": {
              "summary": "{\n  \"name\": \"corr\",\n  \"rows\": 25,\n  \"fields\": [\n    {\n      \"column\": \"TARGET\",\n      \"properties\": {\n        \"dtype\": \"number\",\n        \"std\": 0.1922846121509164,\n        \"min\": 0.033394287191135595,\n        \"max\": 1.0,\n        \"num_unique_values\": 25,\n        \"samples\": [\n          0.05145717260705659,\n          0.04322626321381947,\n          1.0\n        ],\n        \"semantic_type\": \"\",\n        \"description\": \"\"\n      }\n    }\n  ]\n}",
              "type": "dataframe",
              "variable_name": "corr"
            },
            "text/html": [
              "\n",
              "  <div id=\"df-3f33e3f3-27e8-4132-8314-b8520ff0a8fd\" class=\"colab-df-container\">\n",
              "    <div>\n",
              "<style scoped>\n",
              "    .dataframe tbody tr th:only-of-type {\n",
              "        vertical-align: middle;\n",
              "    }\n",
              "\n",
              "    .dataframe tbody tr th {\n",
              "        vertical-align: top;\n",
              "    }\n",
              "\n",
              "    .dataframe thead th {\n",
              "        text-align: right;\n",
              "    }\n",
              "</style>\n",
              "<table border=\"1\" class=\"dataframe\">\n",
              "  <thead>\n",
              "    <tr style=\"text-align: right;\">\n",
              "      <th></th>\n",
              "      <th>TARGET</th>\n",
              "    </tr>\n",
              "  </thead>\n",
              "  <tbody>\n",
              "    <tr>\n",
              "      <th>TARGET</th>\n",
              "      <td>1.000000</td>\n",
              "    </tr>\n",
              "    <tr>\n",
              "      <th>EXT_SOURCE_3</th>\n",
              "      <td>0.178919</td>\n",
              "    </tr>\n",
              "    <tr>\n",
              "      <th>EXT_SOURCE_2</th>\n",
              "      <td>0.160472</td>\n",
              "    </tr>\n",
              "    <tr>\n",
              "      <th>EXT_SOURCE_1</th>\n",
              "      <td>0.155317</td>\n",
              "    </tr>\n",
              "    <tr>\n",
              "      <th>DAYS_BIRTH</th>\n",
              "      <td>0.078239</td>\n",
              "    </tr>\n",
              "    <tr>\n",
              "      <th>REGION_RATING_CLIENT_W_CITY</th>\n",
              "      <td>0.060893</td>\n",
              "    </tr>\n",
              "    <tr>\n",
              "      <th>REGION_RATING_CLIENT</th>\n",
              "      <td>0.058899</td>\n",
              "    </tr>\n",
              "    <tr>\n",
              "      <th>DAYS_LAST_PHONE_CHANGE</th>\n",
              "      <td>0.055218</td>\n",
              "    </tr>\n",
              "    <tr>\n",
              "      <th>DAYS_ID_PUBLISH</th>\n",
              "      <td>0.051457</td>\n",
              "    </tr>\n",
              "    <tr>\n",
              "      <th>REG_CITY_NOT_WORK_CITY</th>\n",
              "      <td>0.050994</td>\n",
              "    </tr>\n",
              "    <tr>\n",
              "      <th>FLAG_EMP_PHONE</th>\n",
              "      <td>0.045982</td>\n",
              "    </tr>\n",
              "    <tr>\n",
              "      <th>DAYS_EMPLOYED</th>\n",
              "      <td>0.044932</td>\n",
              "    </tr>\n",
              "    <tr>\n",
              "      <th>REG_CITY_NOT_LIVE_CITY</th>\n",
              "      <td>0.044395</td>\n",
              "    </tr>\n",
              "    <tr>\n",
              "      <th>FLAG_DOCUMENT_3</th>\n",
              "      <td>0.044346</td>\n",
              "    </tr>\n",
              "    <tr>\n",
              "      <th>FLOORSMAX_AVG</th>\n",
              "      <td>0.044003</td>\n",
              "    </tr>\n",
              "    <tr>\n",
              "      <th>FLOORSMAX_MEDI</th>\n",
              "      <td>0.043768</td>\n",
              "    </tr>\n",
              "    <tr>\n",
              "      <th>FLOORSMAX_MODE</th>\n",
              "      <td>0.043226</td>\n",
              "    </tr>\n",
              "    <tr>\n",
              "      <th>DAYS_REGISTRATION</th>\n",
              "      <td>0.041975</td>\n",
              "    </tr>\n",
              "    <tr>\n",
              "      <th>AMT_GOODS_PRICE</th>\n",
              "      <td>0.039645</td>\n",
              "    </tr>\n",
              "    <tr>\n",
              "      <th>OWN_CAR_AGE</th>\n",
              "      <td>0.037612</td>\n",
              "    </tr>\n",
              "    <tr>\n",
              "      <th>REGION_POPULATION_RELATIVE</th>\n",
              "      <td>0.037227</td>\n",
              "    </tr>\n",
              "    <tr>\n",
              "      <th>ELEVATORS_AVG</th>\n",
              "      <td>0.034199</td>\n",
              "    </tr>\n",
              "    <tr>\n",
              "      <th>ELEVATORS_MEDI</th>\n",
              "      <td>0.033863</td>\n",
              "    </tr>\n",
              "    <tr>\n",
              "      <th>FLOORSMIN_AVG</th>\n",
              "      <td>0.033614</td>\n",
              "    </tr>\n",
              "    <tr>\n",
              "      <th>FLOORSMIN_MEDI</th>\n",
              "      <td>0.033394</td>\n",
              "    </tr>\n",
              "  </tbody>\n",
              "</table>\n",
              "</div>\n",
              "    <div class=\"colab-df-buttons\">\n",
              "\n",
              "  <div class=\"colab-df-container\">\n",
              "    <button class=\"colab-df-convert\" onclick=\"convertToInteractive('df-3f33e3f3-27e8-4132-8314-b8520ff0a8fd')\"\n",
              "            title=\"Convert this dataframe to an interactive table.\"\n",
              "            style=\"display:none;\">\n",
              "\n",
              "  <svg xmlns=\"http://www.w3.org/2000/svg\" height=\"24px\" viewBox=\"0 -960 960 960\">\n",
              "    <path d=\"M120-120v-720h720v720H120Zm60-500h600v-160H180v160Zm220 220h160v-160H400v160Zm0 220h160v-160H400v160ZM180-400h160v-160H180v160Zm440 0h160v-160H620v160ZM180-180h160v-160H180v160Zm440 0h160v-160H620v160Z\"/>\n",
              "  </svg>\n",
              "    </button>\n",
              "\n",
              "  <style>\n",
              "    .colab-df-container {\n",
              "      display:flex;\n",
              "      gap: 12px;\n",
              "    }\n",
              "\n",
              "    .colab-df-convert {\n",
              "      background-color: #E8F0FE;\n",
              "      border: none;\n",
              "      border-radius: 50%;\n",
              "      cursor: pointer;\n",
              "      display: none;\n",
              "      fill: #1967D2;\n",
              "      height: 32px;\n",
              "      padding: 0 0 0 0;\n",
              "      width: 32px;\n",
              "    }\n",
              "\n",
              "    .colab-df-convert:hover {\n",
              "      background-color: #E2EBFA;\n",
              "      box-shadow: 0px 1px 2px rgba(60, 64, 67, 0.3), 0px 1px 3px 1px rgba(60, 64, 67, 0.15);\n",
              "      fill: #174EA6;\n",
              "    }\n",
              "\n",
              "    .colab-df-buttons div {\n",
              "      margin-bottom: 4px;\n",
              "    }\n",
              "\n",
              "    [theme=dark] .colab-df-convert {\n",
              "      background-color: #3B4455;\n",
              "      fill: #D2E3FC;\n",
              "    }\n",
              "\n",
              "    [theme=dark] .colab-df-convert:hover {\n",
              "      background-color: #434B5C;\n",
              "      box-shadow: 0px 1px 3px 1px rgba(0, 0, 0, 0.15);\n",
              "      filter: drop-shadow(0px 1px 2px rgba(0, 0, 0, 0.3));\n",
              "      fill: #FFFFFF;\n",
              "    }\n",
              "  </style>\n",
              "\n",
              "    <script>\n",
              "      const buttonEl =\n",
              "        document.querySelector('#df-3f33e3f3-27e8-4132-8314-b8520ff0a8fd button.colab-df-convert');\n",
              "      buttonEl.style.display =\n",
              "        google.colab.kernel.accessAllowed ? 'block' : 'none';\n",
              "\n",
              "      async function convertToInteractive(key) {\n",
              "        const element = document.querySelector('#df-3f33e3f3-27e8-4132-8314-b8520ff0a8fd');\n",
              "        const dataTable =\n",
              "          await google.colab.kernel.invokeFunction('convertToInteractive',\n",
              "                                                    [key], {});\n",
              "        if (!dataTable) return;\n",
              "\n",
              "        const docLinkHtml = 'Like what you see? Visit the ' +\n",
              "          '<a target=\"_blank\" href=https://colab.research.google.com/notebooks/data_table.ipynb>data table notebook</a>'\n",
              "          + ' to learn more about interactive tables.';\n",
              "        element.innerHTML = '';\n",
              "        dataTable['output_type'] = 'display_data';\n",
              "        await google.colab.output.renderOutput(dataTable, element);\n",
              "        const docLink = document.createElement('div');\n",
              "        docLink.innerHTML = docLinkHtml;\n",
              "        element.appendChild(docLink);\n",
              "      }\n",
              "    </script>\n",
              "  </div>\n",
              "\n",
              "\n",
              "<div id=\"df-d7cdbcfc-c0ee-40a5-8b75-abbbb5db05e7\">\n",
              "  <button class=\"colab-df-quickchart\" onclick=\"quickchart('df-d7cdbcfc-c0ee-40a5-8b75-abbbb5db05e7')\"\n",
              "            title=\"Suggest charts\"\n",
              "            style=\"display:none;\">\n",
              "\n",
              "<svg xmlns=\"http://www.w3.org/2000/svg\" height=\"24px\"viewBox=\"0 0 24 24\"\n",
              "     width=\"24px\">\n",
              "    <g>\n",
              "        <path d=\"M19 3H5c-1.1 0-2 .9-2 2v14c0 1.1.9 2 2 2h14c1.1 0 2-.9 2-2V5c0-1.1-.9-2-2-2zM9 17H7v-7h2v7zm4 0h-2V7h2v10zm4 0h-2v-4h2v4z\"/>\n",
              "    </g>\n",
              "</svg>\n",
              "  </button>\n",
              "\n",
              "<style>\n",
              "  .colab-df-quickchart {\n",
              "      --bg-color: #E8F0FE;\n",
              "      --fill-color: #1967D2;\n",
              "      --hover-bg-color: #E2EBFA;\n",
              "      --hover-fill-color: #174EA6;\n",
              "      --disabled-fill-color: #AAA;\n",
              "      --disabled-bg-color: #DDD;\n",
              "  }\n",
              "\n",
              "  [theme=dark] .colab-df-quickchart {\n",
              "      --bg-color: #3B4455;\n",
              "      --fill-color: #D2E3FC;\n",
              "      --hover-bg-color: #434B5C;\n",
              "      --hover-fill-color: #FFFFFF;\n",
              "      --disabled-bg-color: #3B4455;\n",
              "      --disabled-fill-color: #666;\n",
              "  }\n",
              "\n",
              "  .colab-df-quickchart {\n",
              "    background-color: var(--bg-color);\n",
              "    border: none;\n",
              "    border-radius: 50%;\n",
              "    cursor: pointer;\n",
              "    display: none;\n",
              "    fill: var(--fill-color);\n",
              "    height: 32px;\n",
              "    padding: 0;\n",
              "    width: 32px;\n",
              "  }\n",
              "\n",
              "  .colab-df-quickchart:hover {\n",
              "    background-color: var(--hover-bg-color);\n",
              "    box-shadow: 0 1px 2px rgba(60, 64, 67, 0.3), 0 1px 3px 1px rgba(60, 64, 67, 0.15);\n",
              "    fill: var(--button-hover-fill-color);\n",
              "  }\n",
              "\n",
              "  .colab-df-quickchart-complete:disabled,\n",
              "  .colab-df-quickchart-complete:disabled:hover {\n",
              "    background-color: var(--disabled-bg-color);\n",
              "    fill: var(--disabled-fill-color);\n",
              "    box-shadow: none;\n",
              "  }\n",
              "\n",
              "  .colab-df-spinner {\n",
              "    border: 2px solid var(--fill-color);\n",
              "    border-color: transparent;\n",
              "    border-bottom-color: var(--fill-color);\n",
              "    animation:\n",
              "      spin 1s steps(1) infinite;\n",
              "  }\n",
              "\n",
              "  @keyframes spin {\n",
              "    0% {\n",
              "      border-color: transparent;\n",
              "      border-bottom-color: var(--fill-color);\n",
              "      border-left-color: var(--fill-color);\n",
              "    }\n",
              "    20% {\n",
              "      border-color: transparent;\n",
              "      border-left-color: var(--fill-color);\n",
              "      border-top-color: var(--fill-color);\n",
              "    }\n",
              "    30% {\n",
              "      border-color: transparent;\n",
              "      border-left-color: var(--fill-color);\n",
              "      border-top-color: var(--fill-color);\n",
              "      border-right-color: var(--fill-color);\n",
              "    }\n",
              "    40% {\n",
              "      border-color: transparent;\n",
              "      border-right-color: var(--fill-color);\n",
              "      border-top-color: var(--fill-color);\n",
              "    }\n",
              "    60% {\n",
              "      border-color: transparent;\n",
              "      border-right-color: var(--fill-color);\n",
              "    }\n",
              "    80% {\n",
              "      border-color: transparent;\n",
              "      border-right-color: var(--fill-color);\n",
              "      border-bottom-color: var(--fill-color);\n",
              "    }\n",
              "    90% {\n",
              "      border-color: transparent;\n",
              "      border-bottom-color: var(--fill-color);\n",
              "    }\n",
              "  }\n",
              "</style>\n",
              "\n",
              "  <script>\n",
              "    async function quickchart(key) {\n",
              "      const quickchartButtonEl =\n",
              "        document.querySelector('#' + key + ' button');\n",
              "      quickchartButtonEl.disabled = true;  // To prevent multiple clicks.\n",
              "      quickchartButtonEl.classList.add('colab-df-spinner');\n",
              "      try {\n",
              "        const charts = await google.colab.kernel.invokeFunction(\n",
              "            'suggestCharts', [key], {});\n",
              "      } catch (error) {\n",
              "        console.error('Error during call to suggestCharts:', error);\n",
              "      }\n",
              "      quickchartButtonEl.classList.remove('colab-df-spinner');\n",
              "      quickchartButtonEl.classList.add('colab-df-quickchart-complete');\n",
              "    }\n",
              "    (() => {\n",
              "      let quickchartButtonEl =\n",
              "        document.querySelector('#df-d7cdbcfc-c0ee-40a5-8b75-abbbb5db05e7 button');\n",
              "      quickchartButtonEl.style.display =\n",
              "        google.colab.kernel.accessAllowed ? 'block' : 'none';\n",
              "    })();\n",
              "  </script>\n",
              "</div>\n",
              "\n",
              "  <div id=\"id_7d81a1bc-9172-4dd8-96c7-e23d1181df38\">\n",
              "    <style>\n",
              "      .colab-df-generate {\n",
              "        background-color: #E8F0FE;\n",
              "        border: none;\n",
              "        border-radius: 50%;\n",
              "        cursor: pointer;\n",
              "        display: none;\n",
              "        fill: #1967D2;\n",
              "        height: 32px;\n",
              "        padding: 0 0 0 0;\n",
              "        width: 32px;\n",
              "      }\n",
              "\n",
              "      .colab-df-generate:hover {\n",
              "        background-color: #E2EBFA;\n",
              "        box-shadow: 0px 1px 2px rgba(60, 64, 67, 0.3), 0px 1px 3px 1px rgba(60, 64, 67, 0.15);\n",
              "        fill: #174EA6;\n",
              "      }\n",
              "\n",
              "      [theme=dark] .colab-df-generate {\n",
              "        background-color: #3B4455;\n",
              "        fill: #D2E3FC;\n",
              "      }\n",
              "\n",
              "      [theme=dark] .colab-df-generate:hover {\n",
              "        background-color: #434B5C;\n",
              "        box-shadow: 0px 1px 3px 1px rgba(0, 0, 0, 0.15);\n",
              "        filter: drop-shadow(0px 1px 2px rgba(0, 0, 0, 0.3));\n",
              "        fill: #FFFFFF;\n",
              "      }\n",
              "    </style>\n",
              "    <button class=\"colab-df-generate\" onclick=\"generateWithVariable('corr')\"\n",
              "            title=\"Generate code using this dataframe.\"\n",
              "            style=\"display:none;\">\n",
              "\n",
              "  <svg xmlns=\"http://www.w3.org/2000/svg\" height=\"24px\"viewBox=\"0 0 24 24\"\n",
              "       width=\"24px\">\n",
              "    <path d=\"M7,19H8.4L18.45,9,17,7.55,7,17.6ZM5,21V16.75L18.45,3.32a2,2,0,0,1,2.83,0l1.4,1.43a1.91,1.91,0,0,1,.58,1.4,1.91,1.91,0,0,1-.58,1.4L9.25,21ZM18.45,9,17,7.55Zm-12,3A5.31,5.31,0,0,0,4.9,8.1,5.31,5.31,0,0,0,1,6.5,5.31,5.31,0,0,0,4.9,4.9,5.31,5.31,0,0,0,6.5,1,5.31,5.31,0,0,0,8.1,4.9,5.31,5.31,0,0,0,12,6.5,5.46,5.46,0,0,0,6.5,12Z\"/>\n",
              "  </svg>\n",
              "    </button>\n",
              "    <script>\n",
              "      (() => {\n",
              "      const buttonEl =\n",
              "        document.querySelector('#id_7d81a1bc-9172-4dd8-96c7-e23d1181df38 button.colab-df-generate');\n",
              "      buttonEl.style.display =\n",
              "        google.colab.kernel.accessAllowed ? 'block' : 'none';\n",
              "\n",
              "      buttonEl.onclick = () => {\n",
              "        google.colab.notebook.generateWithVariable('corr');\n",
              "      }\n",
              "      })();\n",
              "    </script>\n",
              "  </div>\n",
              "\n",
              "    </div>\n",
              "  </div>\n"
            ],
            "text/plain": [
              "                               TARGET\n",
              "TARGET                       1.000000\n",
              "EXT_SOURCE_3                 0.178919\n",
              "EXT_SOURCE_2                 0.160472\n",
              "EXT_SOURCE_1                 0.155317\n",
              "DAYS_BIRTH                   0.078239\n",
              "REGION_RATING_CLIENT_W_CITY  0.060893\n",
              "REGION_RATING_CLIENT         0.058899\n",
              "DAYS_LAST_PHONE_CHANGE       0.055218\n",
              "DAYS_ID_PUBLISH              0.051457\n",
              "REG_CITY_NOT_WORK_CITY       0.050994\n",
              "FLAG_EMP_PHONE               0.045982\n",
              "DAYS_EMPLOYED                0.044932\n",
              "REG_CITY_NOT_LIVE_CITY       0.044395\n",
              "FLAG_DOCUMENT_3              0.044346\n",
              "FLOORSMAX_AVG                0.044003\n",
              "FLOORSMAX_MEDI               0.043768\n",
              "FLOORSMAX_MODE               0.043226\n",
              "DAYS_REGISTRATION            0.041975\n",
              "AMT_GOODS_PRICE              0.039645\n",
              "OWN_CAR_AGE                  0.037612\n",
              "REGION_POPULATION_RELATIVE   0.037227\n",
              "ELEVATORS_AVG                0.034199\n",
              "ELEVATORS_MEDI               0.033863\n",
              "FLOORSMIN_AVG                0.033614\n",
              "FLOORSMIN_MEDI               0.033394"
            ]
          },
          "execution_count": 3,
          "metadata": {},
          "output_type": "execute_result"
        }
      ],
      "source": [
        "corr = loan_data.select_dtypes(include='number').corr()\n",
        "correlations = corr.abs().sort_values('TARGET',ascending=False).iloc[:,[1]]\n",
        "corr = correlations.loc[correlations.TARGET > 0.033]\n",
        "corr"
      ]
    },
    {
      "cell_type": "markdown",
      "metadata": {
        "id": "hc0ULmVhhviD"
      },
      "source": [
        "Create a new dataset with the above features"
      ]
    },
    {
      "cell_type": "markdown",
      "metadata": {
        "id": "yhWFawSJvqH1"
      },
      "source": [
        "##Create a new Dataset including only high correlation features"
      ]
    },
    {
      "cell_type": "code",
      "execution_count": 19,
      "metadata": {
        "colab": {
          "base_uri": "https://localhost:8080/",
          "height": 885
        },
        "id": "I7SNlq1MnIjC",
        "outputId": "08138209-e68a-47b6-9c80-60034fd3d809"
      },
      "outputs": [
        {
          "name": "stdout",
          "output_type": "stream",
          "text": [
            "(307511, 25)\n"
          ]
        },
        {
          "data": {
            "text/html": [
              "<div>\n",
              "<style scoped>\n",
              "    .dataframe tbody tr th:only-of-type {\n",
              "        vertical-align: middle;\n",
              "    }\n",
              "\n",
              "    .dataframe tbody tr th {\n",
              "        vertical-align: top;\n",
              "    }\n",
              "\n",
              "    .dataframe thead th {\n",
              "        text-align: right;\n",
              "    }\n",
              "</style>\n",
              "<table border=\"1\" class=\"dataframe\">\n",
              "  <thead>\n",
              "    <tr style=\"text-align: right;\">\n",
              "      <th></th>\n",
              "      <th>0</th>\n",
              "    </tr>\n",
              "  </thead>\n",
              "  <tbody>\n",
              "    <tr>\n",
              "      <th>TARGET</th>\n",
              "      <td>0</td>\n",
              "    </tr>\n",
              "    <tr>\n",
              "      <th>EXT_SOURCE_3</th>\n",
              "      <td>60965</td>\n",
              "    </tr>\n",
              "    <tr>\n",
              "      <th>EXT_SOURCE_2</th>\n",
              "      <td>660</td>\n",
              "    </tr>\n",
              "    <tr>\n",
              "      <th>EXT_SOURCE_1</th>\n",
              "      <td>173378</td>\n",
              "    </tr>\n",
              "    <tr>\n",
              "      <th>DAYS_BIRTH</th>\n",
              "      <td>0</td>\n",
              "    </tr>\n",
              "    <tr>\n",
              "      <th>REGION_RATING_CLIENT_W_CITY</th>\n",
              "      <td>0</td>\n",
              "    </tr>\n",
              "    <tr>\n",
              "      <th>REGION_RATING_CLIENT</th>\n",
              "      <td>0</td>\n",
              "    </tr>\n",
              "    <tr>\n",
              "      <th>DAYS_LAST_PHONE_CHANGE</th>\n",
              "      <td>1</td>\n",
              "    </tr>\n",
              "    <tr>\n",
              "      <th>DAYS_ID_PUBLISH</th>\n",
              "      <td>0</td>\n",
              "    </tr>\n",
              "    <tr>\n",
              "      <th>REG_CITY_NOT_WORK_CITY</th>\n",
              "      <td>0</td>\n",
              "    </tr>\n",
              "    <tr>\n",
              "      <th>FLAG_EMP_PHONE</th>\n",
              "      <td>0</td>\n",
              "    </tr>\n",
              "    <tr>\n",
              "      <th>DAYS_EMPLOYED</th>\n",
              "      <td>0</td>\n",
              "    </tr>\n",
              "    <tr>\n",
              "      <th>REG_CITY_NOT_LIVE_CITY</th>\n",
              "      <td>0</td>\n",
              "    </tr>\n",
              "    <tr>\n",
              "      <th>FLAG_DOCUMENT_3</th>\n",
              "      <td>0</td>\n",
              "    </tr>\n",
              "    <tr>\n",
              "      <th>FLOORSMAX_AVG</th>\n",
              "      <td>153020</td>\n",
              "    </tr>\n",
              "    <tr>\n",
              "      <th>FLOORSMAX_MEDI</th>\n",
              "      <td>153020</td>\n",
              "    </tr>\n",
              "    <tr>\n",
              "      <th>FLOORSMAX_MODE</th>\n",
              "      <td>153020</td>\n",
              "    </tr>\n",
              "    <tr>\n",
              "      <th>DAYS_REGISTRATION</th>\n",
              "      <td>0</td>\n",
              "    </tr>\n",
              "    <tr>\n",
              "      <th>AMT_GOODS_PRICE</th>\n",
              "      <td>278</td>\n",
              "    </tr>\n",
              "    <tr>\n",
              "      <th>OWN_CAR_AGE</th>\n",
              "      <td>202929</td>\n",
              "    </tr>\n",
              "    <tr>\n",
              "      <th>REGION_POPULATION_RELATIVE</th>\n",
              "      <td>0</td>\n",
              "    </tr>\n",
              "    <tr>\n",
              "      <th>ELEVATORS_AVG</th>\n",
              "      <td>163891</td>\n",
              "    </tr>\n",
              "    <tr>\n",
              "      <th>ELEVATORS_MEDI</th>\n",
              "      <td>163891</td>\n",
              "    </tr>\n",
              "    <tr>\n",
              "      <th>FLOORSMIN_AVG</th>\n",
              "      <td>208642</td>\n",
              "    </tr>\n",
              "    <tr>\n",
              "      <th>FLOORSMIN_MEDI</th>\n",
              "      <td>208642</td>\n",
              "    </tr>\n",
              "  </tbody>\n",
              "</table>\n",
              "</div><br><label><b>dtype:</b> int64</label>"
            ],
            "text/plain": [
              "TARGET                              0\n",
              "EXT_SOURCE_3                    60965\n",
              "EXT_SOURCE_2                      660\n",
              "EXT_SOURCE_1                   173378\n",
              "DAYS_BIRTH                          0\n",
              "REGION_RATING_CLIENT_W_CITY         0\n",
              "REGION_RATING_CLIENT                0\n",
              "DAYS_LAST_PHONE_CHANGE              1\n",
              "DAYS_ID_PUBLISH                     0\n",
              "REG_CITY_NOT_WORK_CITY              0\n",
              "FLAG_EMP_PHONE                      0\n",
              "DAYS_EMPLOYED                       0\n",
              "REG_CITY_NOT_LIVE_CITY              0\n",
              "FLAG_DOCUMENT_3                     0\n",
              "FLOORSMAX_AVG                  153020\n",
              "FLOORSMAX_MEDI                 153020\n",
              "FLOORSMAX_MODE                 153020\n",
              "DAYS_REGISTRATION                   0\n",
              "AMT_GOODS_PRICE                   278\n",
              "OWN_CAR_AGE                    202929\n",
              "REGION_POPULATION_RELATIVE          0\n",
              "ELEVATORS_AVG                  163891\n",
              "ELEVATORS_MEDI                 163891\n",
              "FLOORSMIN_AVG                  208642\n",
              "FLOORSMIN_MEDI                 208642\n",
              "dtype: int64"
            ]
          },
          "execution_count": 19,
          "metadata": {},
          "output_type": "execute_result"
        }
      ],
      "source": [
        "features = corr.index\n",
        "data = loan_data[features]\n",
        "print(data.shape)\n",
        "#check null values\n",
        "data.isnull().sum()\n"
      ]
    },
    {
      "cell_type": "markdown",
      "metadata": {
        "id": "kfPLq1z6v0ia"
      },
      "source": [
        "##Plot Distributions"
      ]
    },
    {
      "cell_type": "code",
      "execution_count": 20,
      "metadata": {
        "colab": {
          "base_uri": "https://localhost:8080/",
          "height": 675
        },
        "id": "cyWOj0ISvf0X",
        "outputId": "7ccca4c1-3bfc-4e25-fce8-d2838b1fb18f"
      },
      "outputs": [
        {
          "data": {
            "image/png": "[encoded data removed]",
            "text/plain": [
              "<Figure size 1600x1400 with 32 Axes>"
            ]
          },
          "metadata": {},
          "output_type": "display_data"
        }
      ],
      "source": [
        "columns = []\n",
        "# lets look at the distributions of columns that have null values\n",
        "for col in data.columns:\n",
        "  if data[col].isnull().any():\n",
        "    columns.append(col)\n",
        "\n",
        "data[columns].hist(figsize=(16,14),layout=(8,4))\n",
        "plt.tight_layout()\n",
        "plt.show()\n"
      ]
    },
    {
      "cell_type": "markdown",
      "metadata": {
        "id": "2jC8TQH4ERc0"
      },
      "source": [
        "##Check for outliers"
      ]
    },
    {
      "cell_type": "code",
      "execution_count": 21,
      "metadata": {
        "colab": {
          "base_uri": "https://localhost:8080/",
          "height": 682
        },
        "id": "bMx6blAlCjKu",
        "outputId": "b8f16a29-6348-4252-c317-83cc9535efc2"
      },
      "outputs": [
        {
          "data": {
            "image/png": "[encoded data removed]",
            "text/plain": [
              "<Figure size 1600x1400 with 32 Axes>"
            ]
          },
          "metadata": {},
          "output_type": "display_data"
        }
      ],
      "source": [
        "data[columns].plot(kind='box',\n",
        "                       subplots=True,\n",
        "                       layout=(8,4),\n",
        "                       sharex=False,\n",
        "                       sharey=False,\n",
        "                       figsize=(16,14),\n",
        "                       title='Box Plot for each input feature')\n",
        "plt.tight_layout()\n",
        "plt.show()"
      ]
    },
    {
      "cell_type": "markdown",
      "metadata": {
        "id": "QxO-sZsOF9dk"
      },
      "source": [
        "###Replace outliers and null values with median"
      ]
    },
    {
      "cell_type": "code",
      "execution_count": 22,
      "metadata": {
        "colab": {
          "base_uri": "https://localhost:8080/"
        },
        "id": "e0NIfGvYCIvl",
        "outputId": "f0980c64-e0a0-4b0c-d88c-4741f0d07242"
      },
      "outputs": [
        {
          "name": "stdout",
          "output_type": "stream",
          "text": [
            "Are null values present? ->  False\n",
            "imputing values for column  EXT_SOURCE_3\n",
            "imputing values for column  EXT_SOURCE_2\n",
            "imputing values for column  EXT_SOURCE_1\n",
            "imputing values for column  DAYS_LAST_PHONE_CHANGE\n",
            "imputing values for column  FLOORSMAX_AVG\n",
            "imputing values for column  FLOORSMAX_MEDI\n",
            "imputing values for column  FLOORSMAX_MODE\n",
            "imputing values for column  AMT_GOODS_PRICE\n",
            "imputing values for column  OWN_CAR_AGE\n",
            "imputing values for column  ELEVATORS_AVG\n",
            "imputing values for column  ELEVATORS_MEDI\n",
            "imputing values for column  FLOORSMIN_AVG\n",
            "imputing values for column  FLOORSMIN_MEDI\n"
          ]
        }
      ],
      "source": [
        "import numpy as np\n",
        "\n",
        "def detect_outliers_iqr(data):\n",
        "    data = sorted(data)\n",
        "    q1 = np.percentile(data, 25)\n",
        "    q3 = np.percentile(data, 75)\n",
        "    IQR = q3 - q1\n",
        "    lwr_bound = q1 - (1.5 * IQR)\n",
        "    upr_bound = q3 + (1.5 * IQR)\n",
        "    outliers = []\n",
        "    for i in data:\n",
        "        if i < lwr_bound or i > upr_bound:\n",
        "            outliers.append(i)\n",
        "    return outliers\n",
        "\n",
        "\n",
        "def remove_outliers(data, outlier_columns):\n",
        "\n",
        "  for column in outlier_columns:\n",
        "      print('imputing values for column ',column)\n",
        "      array = data[column]\n",
        "      outliers = detect_outliers_iqr(array)\n",
        "      value = np.median(array)\n",
        "      for i in outliers:\n",
        "          # for every i(outlier) in array , replace it by value else retain the same array element\n",
        "          array = np.where(array == i, value, array)\n",
        "          data[column] = np.asarray(array)\n",
        "\n",
        "  return data\n",
        "\n",
        "# Fill null values\n",
        "for column in columns:\n",
        "  data[column].fillna(new_data[column].median(),inplace=True)\n",
        "\n",
        "# null values replaced\n",
        "print('Are null values present? -> ',data.isnull().sum().any())\n",
        "\n",
        "# Remove outliers\n",
        "new_data = remove_outliers(data, columns)\n"
      ]
    },
    {
      "cell_type": "markdown",
      "metadata": {
        "id": "Po50rk27zoVj"
      },
      "source": [
        "###Re-plot the distributions to see outliers"
      ]
    },
    {
      "cell_type": "code",
      "execution_count": 23,
      "metadata": {
        "colab": {
          "base_uri": "https://localhost:8080/",
          "height": 680
        },
        "id": "hco1D3IAYnXa",
        "outputId": "b8ab5429-0b6b-474c-c61a-5d647d330639"
      },
      "outputs": [
        {
          "data": {
            "image/png": "[encoded data removed]",
            "text/plain": [
              "<Figure size 1600x1400 with 32 Axes>"
            ]
          },
          "metadata": {},
          "output_type": "display_data"
        }
      ],
      "source": [
        "data[columns].plot(kind='box',\n",
        "                       subplots=True,\n",
        "                       layout=(8,4),\n",
        "                       sharex=False,\n",
        "                       sharey=False,\n",
        "                       figsize=(16,14),\n",
        "                       title='Box Plot for each input variable')\n",
        "plt.tight_layout()\n",
        "plt.show()"
      ]
    },
    {
      "cell_type": "code",
      "execution_count": 24,
      "metadata": {
        "colab": {
          "base_uri": "https://localhost:8080/"
        },
        "id": "jgZJnYkOubv9",
        "outputId": "20af0f37-80c1-4c9e-86c2-4a7230bc317a"
      },
      "outputs": [
        {
          "name": "stdout",
          "output_type": "stream",
          "text": [
            "<class 'pandas.core.frame.DataFrame'>\n",
            "RangeIndex: 307511 entries, 0 to 307510\n",
            "Data columns (total 25 columns):\n",
            " #   Column                       Non-Null Count   Dtype  \n",
            "---  ------                       --------------   -----  \n",
            " 0   TARGET                       307511 non-null  int64  \n",
            " 1   EXT_SOURCE_3                 307511 non-null  float64\n",
            " 2   EXT_SOURCE_2                 307511 non-null  float64\n",
            " 3   EXT_SOURCE_1                 307511 non-null  float64\n",
            " 4   DAYS_BIRTH                   307511 non-null  int64  \n",
            " 5   REGION_RATING_CLIENT_W_CITY  307511 non-null  int64  \n",
            " 6   REGION_RATING_CLIENT         307511 non-null  int64  \n",
            " 7   DAYS_LAST_PHONE_CHANGE       307511 non-null  float64\n",
            " 8   DAYS_ID_PUBLISH              307511 non-null  int64  \n",
            " 9   REG_CITY_NOT_WORK_CITY       307511 non-null  int64  \n",
            " 10  FLAG_EMP_PHONE               307511 non-null  int64  \n",
            " 11  DAYS_EMPLOYED                307511 non-null  int64  \n",
            " 12  REG_CITY_NOT_LIVE_CITY       307511 non-null  int64  \n",
            " 13  FLAG_DOCUMENT_3              307511 non-null  int64  \n",
            " 14  FLOORSMAX_AVG                307511 non-null  float64\n",
            " 15  FLOORSMAX_MEDI               307511 non-null  float64\n",
            " 16  FLOORSMAX_MODE               307511 non-null  float64\n",
            " 17  DAYS_REGISTRATION            307511 non-null  float64\n",
            " 18  AMT_GOODS_PRICE              307511 non-null  float64\n",
            " 19  OWN_CAR_AGE                  307511 non-null  float64\n",
            " 20  REGION_POPULATION_RELATIVE   307511 non-null  float64\n",
            " 21  ELEVATORS_AVG                307511 non-null  float64\n",
            " 22  ELEVATORS_MEDI               307511 non-null  float64\n",
            " 23  FLOORSMIN_AVG                307511 non-null  float64\n",
            " 24  FLOORSMIN_MEDI               307511 non-null  float64\n",
            "dtypes: float64(15), int64(10)\n",
            "memory usage: 58.7 MB\n"
          ]
        }
      ],
      "source": [
        "data.info()"
      ]
    },
    {
      "cell_type": "markdown",
      "metadata": {
        "id": "kZQwX0b2ulCb"
      },
      "source": [
        "No column needs to be encoded"
      ]
    },
    {
      "cell_type": "markdown",
      "metadata": {
        "id": "BNUCiGgriOER"
      },
      "source": [
        "##Percentage of defaulters"
      ]
    },
    {
      "cell_type": "code",
      "execution_count": 25,
      "metadata": {
        "colab": {
          "base_uri": "https://localhost:8080/"
        },
        "id": "-jRL7BejivKS",
        "outputId": "ed683db2-3a83-408a-c740-054c79088994"
      },
      "outputs": [
        {
          "name": "stdout",
          "output_type": "stream",
          "text": [
            "Percentage defaulted is  8.07\n"
          ]
        }
      ],
      "source": [
        "total_borrowers = data.shape[0]\n",
        "value_counts_1 = pd.DataFrame(data[new_data['TARGET'] == 1].groupby('TARGET').size()).reset_index()\n",
        "defaulted = value_counts_1[0].to_list().pop()\n",
        "print(f'Percentage defaulted is  {100*defaulted/total_borrowers:.2f}')"
      ]
    },
    {
      "cell_type": "markdown",
      "metadata": {
        "id": "4wZ3u-KpZGvf"
      },
      "source": [
        "##Adding an Age column from DAYS_BIRTH column"
      ]
    },
    {
      "cell_type": "code",
      "execution_count": 27,
      "metadata": {
        "colab": {
          "base_uri": "https://localhost:8080/",
          "height": 256
        },
        "id": "oMd-96ICsTS-",
        "outputId": "be3a159e-a59c-4049-a6ef-c62020e9ef02"
      },
      "outputs": [
        {
          "data": {
            "application/vnd.google.colaboratory.intrinsic+json": {
              "type": "dataframe",
              "variable_name": "new_data"
            },
            "text/html": [
              "\n",
              "  <div id=\"df-acdf0662-e4d3-447e-b959-44897b21c55b\" class=\"colab-df-container\">\n",
              "    <div>\n",
              "<style scoped>\n",
              "    .dataframe tbody tr th:only-of-type {\n",
              "        vertical-align: middle;\n",
              "    }\n",
              "\n",
              "    .dataframe tbody tr th {\n",
              "        vertical-align: top;\n",
              "    }\n",
              "\n",
              "    .dataframe thead th {\n",
              "        text-align: right;\n",
              "    }\n",
              "</style>\n",
              "<table border=\"1\" class=\"dataframe\">\n",
              "  <thead>\n",
              "    <tr style=\"text-align: right;\">\n",
              "      <th></th>\n",
              "      <th>TARGET</th>\n",
              "      <th>EXT_SOURCE_3</th>\n",
              "      <th>EXT_SOURCE_2</th>\n",
              "      <th>EXT_SOURCE_1</th>\n",
              "      <th>REGION_RATING_CLIENT_W_CITY</th>\n",
              "      <th>REGION_RATING_CLIENT</th>\n",
              "      <th>DAYS_LAST_PHONE_CHANGE</th>\n",
              "      <th>DAYS_ID_PUBLISH</th>\n",
              "      <th>REG_CITY_NOT_WORK_CITY</th>\n",
              "      <th>FLAG_EMP_PHONE</th>\n",
              "      <th>...</th>\n",
              "      <th>FLOORSMAX_MODE</th>\n",
              "      <th>DAYS_REGISTRATION</th>\n",
              "      <th>AMT_GOODS_PRICE</th>\n",
              "      <th>OWN_CAR_AGE</th>\n",
              "      <th>REGION_POPULATION_RELATIVE</th>\n",
              "      <th>ELEVATORS_AVG</th>\n",
              "      <th>ELEVATORS_MEDI</th>\n",
              "      <th>FLOORSMIN_AVG</th>\n",
              "      <th>FLOORSMIN_MEDI</th>\n",
              "      <th>AGE</th>\n",
              "    </tr>\n",
              "  </thead>\n",
              "  <tbody>\n",
              "    <tr>\n",
              "      <th>0</th>\n",
              "      <td>1</td>\n",
              "      <td>0.139376</td>\n",
              "      <td>0.262949</td>\n",
              "      <td>0.505998</td>\n",
              "      <td>2</td>\n",
              "      <td>2</td>\n",
              "      <td>-1134.0</td>\n",
              "      <td>-2120</td>\n",
              "      <td>0</td>\n",
              "      <td>1</td>\n",
              "      <td>...</td>\n",
              "      <td>0.1667</td>\n",
              "      <td>-3648.0</td>\n",
              "      <td>351000.0</td>\n",
              "      <td>9.0</td>\n",
              "      <td>0.018801</td>\n",
              "      <td>0.0</td>\n",
              "      <td>0.0</td>\n",
              "      <td>0.2083</td>\n",
              "      <td>0.2083</td>\n",
              "      <td>25</td>\n",
              "    </tr>\n",
              "    <tr>\n",
              "      <th>1</th>\n",
              "      <td>0</td>\n",
              "      <td>0.535276</td>\n",
              "      <td>0.622246</td>\n",
              "      <td>0.505998</td>\n",
              "      <td>1</td>\n",
              "      <td>1</td>\n",
              "      <td>-828.0</td>\n",
              "      <td>-291</td>\n",
              "      <td>0</td>\n",
              "      <td>1</td>\n",
              "      <td>...</td>\n",
              "      <td>0.1667</td>\n",
              "      <td>-1186.0</td>\n",
              "      <td>1129500.0</td>\n",
              "      <td>9.0</td>\n",
              "      <td>0.003541</td>\n",
              "      <td>0.0</td>\n",
              "      <td>0.0</td>\n",
              "      <td>0.2083</td>\n",
              "      <td>0.2083</td>\n",
              "      <td>45</td>\n",
              "    </tr>\n",
              "    <tr>\n",
              "      <th>2</th>\n",
              "      <td>0</td>\n",
              "      <td>0.729567</td>\n",
              "      <td>0.555912</td>\n",
              "      <td>0.505998</td>\n",
              "      <td>2</td>\n",
              "      <td>2</td>\n",
              "      <td>-815.0</td>\n",
              "      <td>-2531</td>\n",
              "      <td>0</td>\n",
              "      <td>1</td>\n",
              "      <td>...</td>\n",
              "      <td>0.1667</td>\n",
              "      <td>-4260.0</td>\n",
              "      <td>135000.0</td>\n",
              "      <td>9.0</td>\n",
              "      <td>0.010032</td>\n",
              "      <td>0.0</td>\n",
              "      <td>0.0</td>\n",
              "      <td>0.2083</td>\n",
              "      <td>0.2083</td>\n",
              "      <td>52</td>\n",
              "    </tr>\n",
              "    <tr>\n",
              "      <th>3</th>\n",
              "      <td>0</td>\n",
              "      <td>0.535276</td>\n",
              "      <td>0.650442</td>\n",
              "      <td>0.505998</td>\n",
              "      <td>2</td>\n",
              "      <td>2</td>\n",
              "      <td>-617.0</td>\n",
              "      <td>-2437</td>\n",
              "      <td>0</td>\n",
              "      <td>1</td>\n",
              "      <td>...</td>\n",
              "      <td>0.1667</td>\n",
              "      <td>-9833.0</td>\n",
              "      <td>297000.0</td>\n",
              "      <td>9.0</td>\n",
              "      <td>0.008019</td>\n",
              "      <td>0.0</td>\n",
              "      <td>0.0</td>\n",
              "      <td>0.2083</td>\n",
              "      <td>0.2083</td>\n",
              "      <td>52</td>\n",
              "    </tr>\n",
              "    <tr>\n",
              "      <th>4</th>\n",
              "      <td>0</td>\n",
              "      <td>0.535276</td>\n",
              "      <td>0.322738</td>\n",
              "      <td>0.505998</td>\n",
              "      <td>2</td>\n",
              "      <td>2</td>\n",
              "      <td>-1106.0</td>\n",
              "      <td>-3458</td>\n",
              "      <td>1</td>\n",
              "      <td>1</td>\n",
              "      <td>...</td>\n",
              "      <td>0.1667</td>\n",
              "      <td>-4311.0</td>\n",
              "      <td>513000.0</td>\n",
              "      <td>9.0</td>\n",
              "      <td>0.028663</td>\n",
              "      <td>0.0</td>\n",
              "      <td>0.0</td>\n",
              "      <td>0.2083</td>\n",
              "      <td>0.2083</td>\n",
              "      <td>54</td>\n",
              "    </tr>\n",
              "  </tbody>\n",
              "</table>\n",
              "<p>5 rows × 25 columns</p>\n",
              "</div>\n",
              "    <div class=\"colab-df-buttons\">\n",
              "\n",
              "  <div class=\"colab-df-container\">\n",
              "    <button class=\"colab-df-convert\" onclick=\"convertToInteractive('df-acdf0662-e4d3-447e-b959-44897b21c55b')\"\n",
              "            title=\"Convert this dataframe to an interactive table.\"\n",
              "            style=\"display:none;\">\n",
              "\n",
              "  <svg xmlns=\"http://www.w3.org/2000/svg\" height=\"24px\" viewBox=\"0 -960 960 960\">\n",
              "    <path d=\"M120-120v-720h720v720H120Zm60-500h600v-160H180v160Zm220 220h160v-160H400v160Zm0 220h160v-160H400v160ZM180-400h160v-160H180v160Zm440 0h160v-160H620v160ZM180-180h160v-160H180v160Zm440 0h160v-160H620v160Z\"/>\n",
              "  </svg>\n",
              "    </button>\n",
              "\n",
              "  <style>\n",
              "    .colab-df-container {\n",
              "      display:flex;\n",
              "      gap: 12px;\n",
              "    }\n",
              "\n",
              "    .colab-df-convert {\n",
              "      background-color: #E8F0FE;\n",
              "      border: none;\n",
              "      border-radius: 50%;\n",
              "      cursor: pointer;\n",
              "      display: none;\n",
              "      fill: #1967D2;\n",
              "      height: 32px;\n",
              "      padding: 0 0 0 0;\n",
              "      width: 32px;\n",
              "    }\n",
              "\n",
              "    .colab-df-convert:hover {\n",
              "      background-color: #E2EBFA;\n",
              "      box-shadow: 0px 1px 2px rgba(60, 64, 67, 0.3), 0px 1px 3px 1px rgba(60, 64, 67, 0.15);\n",
              "      fill: #174EA6;\n",
              "    }\n",
              "\n",
              "    .colab-df-buttons div {\n",
              "      margin-bottom: 4px;\n",
              "    }\n",
              "\n",
              "    [theme=dark] .colab-df-convert {\n",
              "      background-color: #3B4455;\n",
              "      fill: #D2E3FC;\n",
              "    }\n",
              "\n",
              "    [theme=dark] .colab-df-convert:hover {\n",
              "      background-color: #434B5C;\n",
              "      box-shadow: 0px 1px 3px 1px rgba(0, 0, 0, 0.15);\n",
              "      filter: drop-shadow(0px 1px 2px rgba(0, 0, 0, 0.3));\n",
              "      fill: #FFFFFF;\n",
              "    }\n",
              "  </style>\n",
              "\n",
              "    <script>\n",
              "      const buttonEl =\n",
              "        document.querySelector('#df-acdf0662-e4d3-447e-b959-44897b21c55b button.colab-df-convert');\n",
              "      buttonEl.style.display =\n",
              "        google.colab.kernel.accessAllowed ? 'block' : 'none';\n",
              "\n",
              "      async function convertToInteractive(key) {\n",
              "        const element = document.querySelector('#df-acdf0662-e4d3-447e-b959-44897b21c55b');\n",
              "        const dataTable =\n",
              "          await google.colab.kernel.invokeFunction('convertToInteractive',\n",
              "                                                    [key], {});\n",
              "        if (!dataTable) return;\n",
              "\n",
              "        const docLinkHtml = 'Like what you see? Visit the ' +\n",
              "          '<a target=\"_blank\" href=https://colab.research.google.com/notebooks/data_table.ipynb>data table notebook</a>'\n",
              "          + ' to learn more about interactive tables.';\n",
              "        element.innerHTML = '';\n",
              "        dataTable['output_type'] = 'display_data';\n",
              "        await google.colab.output.renderOutput(dataTable, element);\n",
              "        const docLink = document.createElement('div');\n",
              "        docLink.innerHTML = docLinkHtml;\n",
              "        element.appendChild(docLink);\n",
              "      }\n",
              "    </script>\n",
              "  </div>\n",
              "\n",
              "\n",
              "<div id=\"df-1c705901-8583-4a36-89fc-fd2a515c722e\">\n",
              "  <button class=\"colab-df-quickchart\" onclick=\"quickchart('df-1c705901-8583-4a36-89fc-fd2a515c722e')\"\n",
              "            title=\"Suggest charts\"\n",
              "            style=\"display:none;\">\n",
              "\n",
              "<svg xmlns=\"http://www.w3.org/2000/svg\" height=\"24px\"viewBox=\"0 0 24 24\"\n",
              "     width=\"24px\">\n",
              "    <g>\n",
              "        <path d=\"M19 3H5c-1.1 0-2 .9-2 2v14c0 1.1.9 2 2 2h14c1.1 0 2-.9 2-2V5c0-1.1-.9-2-2-2zM9 17H7v-7h2v7zm4 0h-2V7h2v10zm4 0h-2v-4h2v4z\"/>\n",
              "    </g>\n",
              "</svg>\n",
              "  </button>\n",
              "\n",
              "<style>\n",
              "  .colab-df-quickchart {\n",
              "      --bg-color: #E8F0FE;\n",
              "      --fill-color: #1967D2;\n",
              "      --hover-bg-color: #E2EBFA;\n",
              "      --hover-fill-color: #174EA6;\n",
              "      --disabled-fill-color: #AAA;\n",
              "      --disabled-bg-color: #DDD;\n",
              "  }\n",
              "\n",
              "  [theme=dark] .colab-df-quickchart {\n",
              "      --bg-color: #3B4455;\n",
              "      --fill-color: #D2E3FC;\n",
              "      --hover-bg-color: #434B5C;\n",
              "      --hover-fill-color: #FFFFFF;\n",
              "      --disabled-bg-color: #3B4455;\n",
              "      --disabled-fill-color: #666;\n",
              "  }\n",
              "\n",
              "  .colab-df-quickchart {\n",
              "    background-color: var(--bg-color);\n",
              "    border: none;\n",
              "    border-radius: 50%;\n",
              "    cursor: pointer;\n",
              "    display: none;\n",
              "    fill: var(--fill-color);\n",
              "    height: 32px;\n",
              "    padding: 0;\n",
              "    width: 32px;\n",
              "  }\n",
              "\n",
              "  .colab-df-quickchart:hover {\n",
              "    background-color: var(--hover-bg-color);\n",
              "    box-shadow: 0 1px 2px rgba(60, 64, 67, 0.3), 0 1px 3px 1px rgba(60, 64, 67, 0.15);\n",
              "    fill: var(--button-hover-fill-color);\n",
              "  }\n",
              "\n",
              "  .colab-df-quickchart-complete:disabled,\n",
              "  .colab-df-quickchart-complete:disabled:hover {\n",
              "    background-color: var(--disabled-bg-color);\n",
              "    fill: var(--disabled-fill-color);\n",
              "    box-shadow: none;\n",
              "  }\n",
              "\n",
              "  .colab-df-spinner {\n",
              "    border: 2px solid var(--fill-color);\n",
              "    border-color: transparent;\n",
              "    border-bottom-color: var(--fill-color);\n",
              "    animation:\n",
              "      spin 1s steps(1) infinite;\n",
              "  }\n",
              "\n",
              "  @keyframes spin {\n",
              "    0% {\n",
              "      border-color: transparent;\n",
              "      border-bottom-color: var(--fill-color);\n",
              "      border-left-color: var(--fill-color);\n",
              "    }\n",
              "    20% {\n",
              "      border-color: transparent;\n",
              "      border-left-color: var(--fill-color);\n",
              "      border-top-color: var(--fill-color);\n",
              "    }\n",
              "    30% {\n",
              "      border-color: transparent;\n",
              "      border-left-color: var(--fill-color);\n",
              "      border-top-color: var(--fill-color);\n",
              "      border-right-color: var(--fill-color);\n",
              "    }\n",
              "    40% {\n",
              "      border-color: transparent;\n",
              "      border-right-color: var(--fill-color);\n",
              "      border-top-color: var(--fill-color);\n",
              "    }\n",
              "    60% {\n",
              "      border-color: transparent;\n",
              "      border-right-color: var(--fill-color);\n",
              "    }\n",
              "    80% {\n",
              "      border-color: transparent;\n",
              "      border-right-color: var(--fill-color);\n",
              "      border-bottom-color: var(--fill-color);\n",
              "    }\n",
              "    90% {\n",
              "      border-color: transparent;\n",
              "      border-bottom-color: var(--fill-color);\n",
              "    }\n",
              "  }\n",
              "</style>\n",
              "\n",
              "  <script>\n",
              "    async function quickchart(key) {\n",
              "      const quickchartButtonEl =\n",
              "        document.querySelector('#' + key + ' button');\n",
              "      quickchartButtonEl.disabled = true;  // To prevent multiple clicks.\n",
              "      quickchartButtonEl.classList.add('colab-df-spinner');\n",
              "      try {\n",
              "        const charts = await google.colab.kernel.invokeFunction(\n",
              "            'suggestCharts', [key], {});\n",
              "      } catch (error) {\n",
              "        console.error('Error during call to suggestCharts:', error);\n",
              "      }\n",
              "      quickchartButtonEl.classList.remove('colab-df-spinner');\n",
              "      quickchartButtonEl.classList.add('colab-df-quickchart-complete');\n",
              "    }\n",
              "    (() => {\n",
              "      let quickchartButtonEl =\n",
              "        document.querySelector('#df-1c705901-8583-4a36-89fc-fd2a515c722e button');\n",
              "      quickchartButtonEl.style.display =\n",
              "        google.colab.kernel.accessAllowed ? 'block' : 'none';\n",
              "    })();\n",
              "  </script>\n",
              "</div>\n",
              "\n",
              "    </div>\n",
              "  </div>\n"
            ],
            "text/plain": [
              "   TARGET  EXT_SOURCE_3  EXT_SOURCE_2  EXT_SOURCE_1  \\\n",
              "0       1      0.139376      0.262949      0.505998   \n",
              "1       0      0.535276      0.622246      0.505998   \n",
              "2       0      0.729567      0.555912      0.505998   \n",
              "3       0      0.535276      0.650442      0.505998   \n",
              "4       0      0.535276      0.322738      0.505998   \n",
              "\n",
              "   REGION_RATING_CLIENT_W_CITY  REGION_RATING_CLIENT  DAYS_LAST_PHONE_CHANGE  \\\n",
              "0                            2                     2                 -1134.0   \n",
              "1                            1                     1                  -828.0   \n",
              "2                            2                     2                  -815.0   \n",
              "3                            2                     2                  -617.0   \n",
              "4                            2                     2                 -1106.0   \n",
              "\n",
              "   DAYS_ID_PUBLISH  REG_CITY_NOT_WORK_CITY  FLAG_EMP_PHONE  ...  \\\n",
              "0            -2120                       0               1  ...   \n",
              "1             -291                       0               1  ...   \n",
              "2            -2531                       0               1  ...   \n",
              "3            -2437                       0               1  ...   \n",
              "4            -3458                       1               1  ...   \n",
              "\n",
              "   FLOORSMAX_MODE  DAYS_REGISTRATION  AMT_GOODS_PRICE  OWN_CAR_AGE  \\\n",
              "0          0.1667            -3648.0         351000.0          9.0   \n",
              "1          0.1667            -1186.0        1129500.0          9.0   \n",
              "2          0.1667            -4260.0         135000.0          9.0   \n",
              "3          0.1667            -9833.0         297000.0          9.0   \n",
              "4          0.1667            -4311.0         513000.0          9.0   \n",
              "\n",
              "   REGION_POPULATION_RELATIVE  ELEVATORS_AVG  ELEVATORS_MEDI  FLOORSMIN_AVG  \\\n",
              "0                    0.018801            0.0             0.0         0.2083   \n",
              "1                    0.003541            0.0             0.0         0.2083   \n",
              "2                    0.010032            0.0             0.0         0.2083   \n",
              "3                    0.008019            0.0             0.0         0.2083   \n",
              "4                    0.028663            0.0             0.0         0.2083   \n",
              "\n",
              "   FLOORSMIN_MEDI  AGE  \n",
              "0          0.2083   25  \n",
              "1          0.2083   45  \n",
              "2          0.2083   52  \n",
              "3          0.2083   52  \n",
              "4          0.2083   54  \n",
              "\n",
              "[5 rows x 25 columns]"
            ]
          },
          "execution_count": 27,
          "metadata": {},
          "output_type": "execute_result"
        }
      ],
      "source": [
        "def preprocess(data):\n",
        "  data['AGE'] = data['DAYS_BIRTH'].apply(lambda x: int(abs(x)/365))\n",
        "  new_data = data.drop('DAYS_BIRTH',axis=1)\n",
        "  return new_data\n",
        "new_data = preprocess(data)\n",
        "new_data.head()"
      ]
    },
    {
      "cell_type": "markdown",
      "metadata": {
        "id": "j5_7QxsFZaft"
      },
      "source": [
        "##Check class imbalance to fix"
      ]
    },
    {
      "cell_type": "code",
      "execution_count": 28,
      "metadata": {
        "colab": {
          "base_uri": "https://localhost:8080/",
          "height": 517
        },
        "id": "4mUP1WREJlyz",
        "outputId": "d5bc0b21-9668-4ef7-8e42-193ce1df926d"
      },
      "outputs": [
        {
          "name": "stdout",
          "output_type": "stream",
          "text": [
            "TARGET\n",
            "0    282686\n",
            "1     24825\n",
            "Name: count, dtype: int64\n"
          ]
        },
        {
          "data": {
            "text/plain": [
              "<Axes: ylabel='TARGET'>"
            ]
          },
          "execution_count": 28,
          "metadata": {},
          "output_type": "execute_result"
        },
        {
          "data": {
            "image/png": "[encoded data removed]",
            "text/plain": [
              "<Figure size 640x480 with 1 Axes>"
            ]
          },
          "metadata": {},
          "output_type": "display_data"
        }
      ],
      "source": [
        "# Check imbalance\n",
        "print(new_data.TARGET.value_counts())\n",
        "new_data.groupby('TARGET').size().plot(kind='barh',color=sns.palettes.mpl_palette('Dark2'))"
      ]
    },
    {
      "cell_type": "code",
      "execution_count": 29,
      "metadata": {
        "colab": {
          "base_uri": "https://localhost:8080/"
        },
        "id": "YHt40hQtL-Or",
        "outputId": "abddcac6-fe56-43c9-9366-0aabe1860231"
      },
      "outputs": [
        {
          "name": "stdout",
          "output_type": "stream",
          "text": [
            "(282686, 25)\n",
            "(24825, 25)\n"
          ]
        }
      ],
      "source": [
        "TARGET_0=new_data[new_data['TARGET']==0]\n",
        "TARGET_1=new_data[new_data['TARGET']==1]\n",
        "print(TARGET_0.shape)\n",
        "print(TARGET_1.shape)"
      ]
    },
    {
      "cell_type": "markdown",
      "metadata": {
        "id": "nH3I2YFK7vsX"
      },
      "source": [
        "##Upsample"
      ]
    },
    {
      "cell_type": "code",
      "execution_count": 31,
      "metadata": {
        "colab": {
          "base_uri": "https://localhost:8080/",
          "height": 178
        },
        "id": "wDz7JB6TN9Ee",
        "outputId": "aea619f8-06da-4241-80bc-5c4924cf56d5"
      },
      "outputs": [
        {
          "data": {
            "text/html": [
              "<div>\n",
              "<style scoped>\n",
              "    .dataframe tbody tr th:only-of-type {\n",
              "        vertical-align: middle;\n",
              "    }\n",
              "\n",
              "    .dataframe tbody tr th {\n",
              "        vertical-align: top;\n",
              "    }\n",
              "\n",
              "    .dataframe thead th {\n",
              "        text-align: right;\n",
              "    }\n",
              "</style>\n",
              "<table border=\"1\" class=\"dataframe\">\n",
              "  <thead>\n",
              "    <tr style=\"text-align: right;\">\n",
              "      <th></th>\n",
              "      <th>count</th>\n",
              "    </tr>\n",
              "    <tr>\n",
              "      <th>TARGET</th>\n",
              "      <th></th>\n",
              "    </tr>\n",
              "  </thead>\n",
              "  <tbody>\n",
              "    <tr>\n",
              "      <th>0</th>\n",
              "      <td>282686</td>\n",
              "    </tr>\n",
              "    <tr>\n",
              "      <th>1</th>\n",
              "      <td>282686</td>\n",
              "    </tr>\n",
              "  </tbody>\n",
              "</table>\n",
              "</div><br><label><b>dtype:</b> int64</label>"
            ],
            "text/plain": [
              "TARGET\n",
              "0    282686\n",
              "1    282686\n",
              "Name: count, dtype: int64"
            ]
          },
          "execution_count": 31,
          "metadata": {},
          "output_type": "execute_result"
        }
      ],
      "source": [
        "from sklearn.utils import resample\n",
        "TARGET_1_upsampled=resample(TARGET_1,replace=True,n_samples=len(TARGET_0),random_state=42)\n",
        "new_df=pd.concat([TARGET_0,TARGET_1_upsampled])\n",
        "new_df['TARGET'].value_counts()"
      ]
    },
    {
      "cell_type": "markdown",
      "metadata": {
        "id": "rKETfVV18Aua"
      },
      "source": [
        "##Shuffle the data"
      ]
    },
    {
      "cell_type": "code",
      "execution_count": 32,
      "metadata": {
        "colab": {
          "base_uri": "https://localhost:8080/",
          "height": 256
        },
        "id": "XwBICgCvS3KG",
        "outputId": "43fdde07-4128-4a49-c04e-dca845bd74df"
      },
      "outputs": [
        {
          "data": {
            "application/vnd.google.colaboratory.intrinsic+json": {
              "type": "dataframe",
              "variable_name": "new_data"
            },
            "text/html": [
              "\n",
              "  <div id=\"df-0717ce30-f4c3-4644-8c14-d95de50f09b7\" class=\"colab-df-container\">\n",
              "    <div>\n",
              "<style scoped>\n",
              "    .dataframe tbody tr th:only-of-type {\n",
              "        vertical-align: middle;\n",
              "    }\n",
              "\n",
              "    .dataframe tbody tr th {\n",
              "        vertical-align: top;\n",
              "    }\n",
              "\n",
              "    .dataframe thead th {\n",
              "        text-align: right;\n",
              "    }\n",
              "</style>\n",
              "<table border=\"1\" class=\"dataframe\">\n",
              "  <thead>\n",
              "    <tr style=\"text-align: right;\">\n",
              "      <th></th>\n",
              "      <th>TARGET</th>\n",
              "      <th>EXT_SOURCE_3</th>\n",
              "      <th>EXT_SOURCE_2</th>\n",
              "      <th>EXT_SOURCE_1</th>\n",
              "      <th>REGION_RATING_CLIENT_W_CITY</th>\n",
              "      <th>REGION_RATING_CLIENT</th>\n",
              "      <th>DAYS_LAST_PHONE_CHANGE</th>\n",
              "      <th>DAYS_ID_PUBLISH</th>\n",
              "      <th>REG_CITY_NOT_WORK_CITY</th>\n",
              "      <th>FLAG_EMP_PHONE</th>\n",
              "      <th>...</th>\n",
              "      <th>FLOORSMAX_MODE</th>\n",
              "      <th>DAYS_REGISTRATION</th>\n",
              "      <th>AMT_GOODS_PRICE</th>\n",
              "      <th>OWN_CAR_AGE</th>\n",
              "      <th>REGION_POPULATION_RELATIVE</th>\n",
              "      <th>ELEVATORS_AVG</th>\n",
              "      <th>ELEVATORS_MEDI</th>\n",
              "      <th>FLOORSMIN_AVG</th>\n",
              "      <th>FLOORSMIN_MEDI</th>\n",
              "      <th>AGE</th>\n",
              "    </tr>\n",
              "  </thead>\n",
              "  <tbody>\n",
              "    <tr>\n",
              "      <th>262618</th>\n",
              "      <td>0</td>\n",
              "      <td>0.508287</td>\n",
              "      <td>0.432571</td>\n",
              "      <td>0.505998</td>\n",
              "      <td>3</td>\n",
              "      <td>3</td>\n",
              "      <td>-1574.0</td>\n",
              "      <td>-5163</td>\n",
              "      <td>1</td>\n",
              "      <td>1</td>\n",
              "      <td>...</td>\n",
              "      <td>0.1667</td>\n",
              "      <td>-559.0</td>\n",
              "      <td>265500.0</td>\n",
              "      <td>9.0</td>\n",
              "      <td>0.020246</td>\n",
              "      <td>0.0</td>\n",
              "      <td>0.0</td>\n",
              "      <td>0.2083</td>\n",
              "      <td>0.2083</td>\n",
              "      <td>40</td>\n",
              "    </tr>\n",
              "    <tr>\n",
              "      <th>140683</th>\n",
              "      <td>1</td>\n",
              "      <td>0.306202</td>\n",
              "      <td>0.404001</td>\n",
              "      <td>0.505998</td>\n",
              "      <td>3</td>\n",
              "      <td>3</td>\n",
              "      <td>-311.0</td>\n",
              "      <td>-4192</td>\n",
              "      <td>0</td>\n",
              "      <td>0</td>\n",
              "      <td>...</td>\n",
              "      <td>0.1667</td>\n",
              "      <td>-406.0</td>\n",
              "      <td>202500.0</td>\n",
              "      <td>9.0</td>\n",
              "      <td>0.018209</td>\n",
              "      <td>0.0</td>\n",
              "      <td>0.0</td>\n",
              "      <td>0.2083</td>\n",
              "      <td>0.2083</td>\n",
              "      <td>60</td>\n",
              "    </tr>\n",
              "    <tr>\n",
              "      <th>54014</th>\n",
              "      <td>1</td>\n",
              "      <td>0.099504</td>\n",
              "      <td>0.019075</td>\n",
              "      <td>0.505998</td>\n",
              "      <td>2</td>\n",
              "      <td>2</td>\n",
              "      <td>-2370.0</td>\n",
              "      <td>-4350</td>\n",
              "      <td>0</td>\n",
              "      <td>0</td>\n",
              "      <td>...</td>\n",
              "      <td>0.1667</td>\n",
              "      <td>-10031.0</td>\n",
              "      <td>180000.0</td>\n",
              "      <td>9.0</td>\n",
              "      <td>0.025164</td>\n",
              "      <td>0.0</td>\n",
              "      <td>0.0</td>\n",
              "      <td>0.2083</td>\n",
              "      <td>0.2083</td>\n",
              "      <td>65</td>\n",
              "    </tr>\n",
              "    <tr>\n",
              "      <th>137390</th>\n",
              "      <td>0</td>\n",
              "      <td>0.535276</td>\n",
              "      <td>0.554946</td>\n",
              "      <td>0.505998</td>\n",
              "      <td>2</td>\n",
              "      <td>2</td>\n",
              "      <td>-1064.0</td>\n",
              "      <td>-1323</td>\n",
              "      <td>0</td>\n",
              "      <td>1</td>\n",
              "      <td>...</td>\n",
              "      <td>0.1667</td>\n",
              "      <td>-1083.0</td>\n",
              "      <td>900000.0</td>\n",
              "      <td>9.0</td>\n",
              "      <td>0.018801</td>\n",
              "      <td>0.0</td>\n",
              "      <td>0.0</td>\n",
              "      <td>0.2083</td>\n",
              "      <td>0.2083</td>\n",
              "      <td>48</td>\n",
              "    </tr>\n",
              "    <tr>\n",
              "      <th>209473</th>\n",
              "      <td>1</td>\n",
              "      <td>0.362277</td>\n",
              "      <td>0.536092</td>\n",
              "      <td>0.505998</td>\n",
              "      <td>2</td>\n",
              "      <td>2</td>\n",
              "      <td>0.0</td>\n",
              "      <td>-1214</td>\n",
              "      <td>0</td>\n",
              "      <td>1</td>\n",
              "      <td>...</td>\n",
              "      <td>0.1667</td>\n",
              "      <td>-3364.0</td>\n",
              "      <td>225000.0</td>\n",
              "      <td>9.0</td>\n",
              "      <td>0.009175</td>\n",
              "      <td>0.0</td>\n",
              "      <td>0.0</td>\n",
              "      <td>0.2083</td>\n",
              "      <td>0.2083</td>\n",
              "      <td>23</td>\n",
              "    </tr>\n",
              "  </tbody>\n",
              "</table>\n",
              "<p>5 rows × 25 columns</p>\n",
              "</div>\n",
              "    <div class=\"colab-df-buttons\">\n",
              "\n",
              "  <div class=\"colab-df-container\">\n",
              "    <button class=\"colab-df-convert\" onclick=\"convertToInteractive('df-0717ce30-f4c3-4644-8c14-d95de50f09b7')\"\n",
              "            title=\"Convert this dataframe to an interactive table.\"\n",
              "            style=\"display:none;\">\n",
              "\n",
              "  <svg xmlns=\"http://www.w3.org/2000/svg\" height=\"24px\" viewBox=\"0 -960 960 960\">\n",
              "    <path d=\"M120-120v-720h720v720H120Zm60-500h600v-160H180v160Zm220 220h160v-160H400v160Zm0 220h160v-160H400v160ZM180-400h160v-160H180v160Zm440 0h160v-160H620v160ZM180-180h160v-160H180v160Zm440 0h160v-160H620v160Z\"/>\n",
              "  </svg>\n",
              "    </button>\n",
              "\n",
              "  <style>\n",
              "    .colab-df-container {\n",
              "      display:flex;\n",
              "      gap: 12px;\n",
              "    }\n",
              "\n",
              "    .colab-df-convert {\n",
              "      background-color: #E8F0FE;\n",
              "      border: none;\n",
              "      border-radius: 50%;\n",
              "      cursor: pointer;\n",
              "      display: none;\n",
              "      fill: #1967D2;\n",
              "      height: 32px;\n",
              "      padding: 0 0 0 0;\n",
              "      width: 32px;\n",
              "    }\n",
              "\n",
              "    .colab-df-convert:hover {\n",
              "      background-color: #E2EBFA;\n",
              "      box-shadow: 0px 1px 2px rgba(60, 64, 67, 0.3), 0px 1px 3px 1px rgba(60, 64, 67, 0.15);\n",
              "      fill: #174EA6;\n",
              "    }\n",
              "\n",
              "    .colab-df-buttons div {\n",
              "      margin-bottom: 4px;\n",
              "    }\n",
              "\n",
              "    [theme=dark] .colab-df-convert {\n",
              "      background-color: #3B4455;\n",
              "      fill: #D2E3FC;\n",
              "    }\n",
              "\n",
              "    [theme=dark] .colab-df-convert:hover {\n",
              "      background-color: #434B5C;\n",
              "      box-shadow: 0px 1px 3px 1px rgba(0, 0, 0, 0.15);\n",
              "      filter: drop-shadow(0px 1px 2px rgba(0, 0, 0, 0.3));\n",
              "      fill: #FFFFFF;\n",
              "    }\n",
              "  </style>\n",
              "\n",
              "    <script>\n",
              "      const buttonEl =\n",
              "        document.querySelector('#df-0717ce30-f4c3-4644-8c14-d95de50f09b7 button.colab-df-convert');\n",
              "      buttonEl.style.display =\n",
              "        google.colab.kernel.accessAllowed ? 'block' : 'none';\n",
              "\n",
              "      async function convertToInteractive(key) {\n",
              "        const element = document.querySelector('#df-0717ce30-f4c3-4644-8c14-d95de50f09b7');\n",
              "        const dataTable =\n",
              "          await google.colab.kernel.invokeFunction('convertToInteractive',\n",
              "                                                    [key], {});\n",
              "        if (!dataTable) return;\n",
              "\n",
              "        const docLinkHtml = 'Like what you see? Visit the ' +\n",
              "          '<a target=\"_blank\" href=https://colab.research.google.com/notebooks/data_table.ipynb>data table notebook</a>'\n",
              "          + ' to learn more about interactive tables.';\n",
              "        element.innerHTML = '';\n",
              "        dataTable['output_type'] = 'display_data';\n",
              "        await google.colab.output.renderOutput(dataTable, element);\n",
              "        const docLink = document.createElement('div');\n",
              "        docLink.innerHTML = docLinkHtml;\n",
              "        element.appendChild(docLink);\n",
              "      }\n",
              "    </script>\n",
              "  </div>\n",
              "\n",
              "\n",
              "<div id=\"df-3d74511f-1a82-47b6-998b-3bf5ec2eec32\">\n",
              "  <button class=\"colab-df-quickchart\" onclick=\"quickchart('df-3d74511f-1a82-47b6-998b-3bf5ec2eec32')\"\n",
              "            title=\"Suggest charts\"\n",
              "            style=\"display:none;\">\n",
              "\n",
              "<svg xmlns=\"http://www.w3.org/2000/svg\" height=\"24px\"viewBox=\"0 0 24 24\"\n",
              "     width=\"24px\">\n",
              "    <g>\n",
              "        <path d=\"M19 3H5c-1.1 0-2 .9-2 2v14c0 1.1.9 2 2 2h14c1.1 0 2-.9 2-2V5c0-1.1-.9-2-2-2zM9 17H7v-7h2v7zm4 0h-2V7h2v10zm4 0h-2v-4h2v4z\"/>\n",
              "    </g>\n",
              "</svg>\n",
              "  </button>\n",
              "\n",
              "<style>\n",
              "  .colab-df-quickchart {\n",
              "      --bg-color: #E8F0FE;\n",
              "      --fill-color: #1967D2;\n",
              "      --hover-bg-color: #E2EBFA;\n",
              "      --hover-fill-color: #174EA6;\n",
              "      --disabled-fill-color: #AAA;\n",
              "      --disabled-bg-color: #DDD;\n",
              "  }\n",
              "\n",
              "  [theme=dark] .colab-df-quickchart {\n",
              "      --bg-color: #3B4455;\n",
              "      --fill-color: #D2E3FC;\n",
              "      --hover-bg-color: #434B5C;\n",
              "      --hover-fill-color: #FFFFFF;\n",
              "      --disabled-bg-color: #3B4455;\n",
              "      --disabled-fill-color: #666;\n",
              "  }\n",
              "\n",
              "  .colab-df-quickchart {\n",
              "    background-color: var(--bg-color);\n",
              "    border: none;\n",
              "    border-radius: 50%;\n",
              "    cursor: pointer;\n",
              "    display: none;\n",
              "    fill: var(--fill-color);\n",
              "    height: 32px;\n",
              "    padding: 0;\n",
              "    width: 32px;\n",
              "  }\n",
              "\n",
              "  .colab-df-quickchart:hover {\n",
              "    background-color: var(--hover-bg-color);\n",
              "    box-shadow: 0 1px 2px rgba(60, 64, 67, 0.3), 0 1px 3px 1px rgba(60, 64, 67, 0.15);\n",
              "    fill: var(--button-hover-fill-color);\n",
              "  }\n",
              "\n",
              "  .colab-df-quickchart-complete:disabled,\n",
              "  .colab-df-quickchart-complete:disabled:hover {\n",
              "    background-color: var(--disabled-bg-color);\n",
              "    fill: var(--disabled-fill-color);\n",
              "    box-shadow: none;\n",
              "  }\n",
              "\n",
              "  .colab-df-spinner {\n",
              "    border: 2px solid var(--fill-color);\n",
              "    border-color: transparent;\n",
              "    border-bottom-color: var(--fill-color);\n",
              "    animation:\n",
              "      spin 1s steps(1) infinite;\n",
              "  }\n",
              "\n",
              "  @keyframes spin {\n",
              "    0% {\n",
              "      border-color: transparent;\n",
              "      border-bottom-color: var(--fill-color);\n",
              "      border-left-color: var(--fill-color);\n",
              "    }\n",
              "    20% {\n",
              "      border-color: transparent;\n",
              "      border-left-color: var(--fill-color);\n",
              "      border-top-color: var(--fill-color);\n",
              "    }\n",
              "    30% {\n",
              "      border-color: transparent;\n",
              "      border-left-color: var(--fill-color);\n",
              "      border-top-color: var(--fill-color);\n",
              "      border-right-color: var(--fill-color);\n",
              "    }\n",
              "    40% {\n",
              "      border-color: transparent;\n",
              "      border-right-color: var(--fill-color);\n",
              "      border-top-color: var(--fill-color);\n",
              "    }\n",
              "    60% {\n",
              "      border-color: transparent;\n",
              "      border-right-color: var(--fill-color);\n",
              "    }\n",
              "    80% {\n",
              "      border-color: transparent;\n",
              "      border-right-color: var(--fill-color);\n",
              "      border-bottom-color: var(--fill-color);\n",
              "    }\n",
              "    90% {\n",
              "      border-color: transparent;\n",
              "      border-bottom-color: var(--fill-color);\n",
              "    }\n",
              "  }\n",
              "</style>\n",
              "\n",
              "  <script>\n",
              "    async function quickchart(key) {\n",
              "      const quickchartButtonEl =\n",
              "        document.querySelector('#' + key + ' button');\n",
              "      quickchartButtonEl.disabled = true;  // To prevent multiple clicks.\n",
              "      quickchartButtonEl.classList.add('colab-df-spinner');\n",
              "      try {\n",
              "        const charts = await google.colab.kernel.invokeFunction(\n",
              "            'suggestCharts', [key], {});\n",
              "      } catch (error) {\n",
              "        console.error('Error during call to suggestCharts:', error);\n",
              "      }\n",
              "      quickchartButtonEl.classList.remove('colab-df-spinner');\n",
              "      quickchartButtonEl.classList.add('colab-df-quickchart-complete');\n",
              "    }\n",
              "    (() => {\n",
              "      let quickchartButtonEl =\n",
              "        document.querySelector('#df-3d74511f-1a82-47b6-998b-3bf5ec2eec32 button');\n",
              "      quickchartButtonEl.style.display =\n",
              "        google.colab.kernel.accessAllowed ? 'block' : 'none';\n",
              "    })();\n",
              "  </script>\n",
              "</div>\n",
              "\n",
              "    </div>\n",
              "  </div>\n"
            ],
            "text/plain": [
              "        TARGET  EXT_SOURCE_3  EXT_SOURCE_2  EXT_SOURCE_1  \\\n",
              "262618       0      0.508287      0.432571      0.505998   \n",
              "140683       1      0.306202      0.404001      0.505998   \n",
              "54014        1      0.099504      0.019075      0.505998   \n",
              "137390       0      0.535276      0.554946      0.505998   \n",
              "209473       1      0.362277      0.536092      0.505998   \n",
              "\n",
              "        REGION_RATING_CLIENT_W_CITY  REGION_RATING_CLIENT  \\\n",
              "262618                            3                     3   \n",
              "140683                            3                     3   \n",
              "54014                             2                     2   \n",
              "137390                            2                     2   \n",
              "209473                            2                     2   \n",
              "\n",
              "        DAYS_LAST_PHONE_CHANGE  DAYS_ID_PUBLISH  REG_CITY_NOT_WORK_CITY  \\\n",
              "262618                 -1574.0            -5163                       1   \n",
              "140683                  -311.0            -4192                       0   \n",
              "54014                  -2370.0            -4350                       0   \n",
              "137390                 -1064.0            -1323                       0   \n",
              "209473                     0.0            -1214                       0   \n",
              "\n",
              "        FLAG_EMP_PHONE  ...  FLOORSMAX_MODE  DAYS_REGISTRATION  \\\n",
              "262618               1  ...          0.1667             -559.0   \n",
              "140683               0  ...          0.1667             -406.0   \n",
              "54014                0  ...          0.1667           -10031.0   \n",
              "137390               1  ...          0.1667            -1083.0   \n",
              "209473               1  ...          0.1667            -3364.0   \n",
              "\n",
              "        AMT_GOODS_PRICE  OWN_CAR_AGE  REGION_POPULATION_RELATIVE  \\\n",
              "262618         265500.0          9.0                    0.020246   \n",
              "140683         202500.0          9.0                    0.018209   \n",
              "54014          180000.0          9.0                    0.025164   \n",
              "137390         900000.0          9.0                    0.018801   \n",
              "209473         225000.0          9.0                    0.009175   \n",
              "\n",
              "        ELEVATORS_AVG  ELEVATORS_MEDI  FLOORSMIN_AVG  FLOORSMIN_MEDI  AGE  \n",
              "262618            0.0             0.0         0.2083          0.2083   40  \n",
              "140683            0.0             0.0         0.2083          0.2083   60  \n",
              "54014             0.0             0.0         0.2083          0.2083   65  \n",
              "137390            0.0             0.0         0.2083          0.2083   48  \n",
              "209473            0.0             0.0         0.2083          0.2083   23  \n",
              "\n",
              "[5 rows x 25 columns]"
            ]
          },
          "execution_count": 32,
          "metadata": {},
          "output_type": "execute_result"
        }
      ],
      "source": [
        "from sklearn.utils import shuffle\n",
        "new_df = pd.concat([TARGET_0,TARGET_1_upsampled])\n",
        "new_data=shuffle(new_df)\n",
        "new_data.head()"
      ]
    },
    {
      "cell_type": "code",
      "execution_count": 34,
      "metadata": {
        "colab": {
          "base_uri": "https://localhost:8080/"
        },
        "id": "MTp4Yw97JEBg",
        "outputId": "ce395208-c4ea-4850-b992-1a298e85a7e6"
      },
      "outputs": [
        {
          "name": "stdout",
          "output_type": "stream",
          "text": [
            "X shape ->  (565372, 24)\n",
            "y shape ->  (565372,)\n"
          ]
        }
      ],
      "source": [
        "X = new_data.drop('TARGET',axis=1)\n",
        "y = new_data['TARGET']\n",
        "print('X shape -> ',X.shape)\n",
        "print('y shape -> ',y.shape)"
      ]
    },
    {
      "cell_type": "markdown",
      "metadata": {
        "id": "MmJ6KPs48G9y"
      },
      "source": [
        "##Get Train and Test splits"
      ]
    },
    {
      "cell_type": "code",
      "execution_count": 35,
      "metadata": {
        "id": "qyNmzRtGJQwY"
      },
      "outputs": [],
      "source": [
        "from sklearn.model_selection import train_test_split\n",
        "from sklearn.preprocessing import StandardScaler\n",
        "scaler = StandardScaler()\n",
        "\n",
        "X_train,X_test,y_train,y_test = train_test_split(X,y,test_size=0.2,random_state=42)\n",
        "X_train = scaler.fit_transform(X_train)\n",
        "X_test = scaler.transform(X_test)"
      ]
    },
    {
      "cell_type": "markdown",
      "metadata": {
        "id": "2QfrnAIlVJtj"
      },
      "source": [
        "##Create ANN using keras & tf"
      ]
    },
    {
      "cell_type": "markdown",
      "metadata": {
        "id": "bfA4ZYVn8elh"
      },
      "source": [
        "###Create model architecture"
      ]
    },
    {
      "cell_type": "code",
      "execution_count": 36,
      "metadata": {
        "colab": {
          "base_uri": "https://localhost:8080/"
        },
        "id": "grvzhMpgVJGR",
        "outputId": "5ff7625f-f236-40ee-ef06-791123939f82"
      },
      "outputs": [
        {
          "name": "stdout",
          "output_type": "stream",
          "text": [
            "model created\n"
          ]
        }
      ],
      "source": [
        "from tensorflow.keras.models import Sequential\n",
        "from tensorflow.keras.layers import Dense,Dropout,BatchNormalization\n",
        "# l2 regularizer\n",
        "from tensorflow.keras.regularizers import l2\n",
        "from tensorflow import keras\n",
        "model=Sequential()\n",
        "# this will eliminate UserWarning: Do not pass an `input_shape`/`input_dim` argument to a layer. When using Sequential models, prefer using an `Input(shape)` object as the first layer in the model instead.\n",
        "inputs = keras.Input(shape=(X_train.shape[1],))\n",
        "model.add(inputs)\n",
        "# add first hidden layer\n",
        "model.add(Dense(units=32,activation='relu',kernel_regularizer=l2(0.001)))\n",
        "model.add(Dropout(0.2))\n",
        "model.add(BatchNormalization())\n",
        "# add scond hidden layer\n",
        "model.add(Dense(units=64,activation='relu',kernel_regularizer=l2(0.001)))\n",
        "model.add(Dropout(0.2))\n",
        "model.add(BatchNormalization())\n",
        "# third hidden layer\n",
        "model.add(Dense(units=128,activation='relu',kernel_regularizer=l2(0.001)))\n",
        "model.add(Dropout(0.2))\n",
        "model.add(BatchNormalization())\n",
        "# output\n",
        "model.add(Dense(1,activation='sigmoid'))\n",
        "print('model created')"
      ]
    },
    {
      "cell_type": "code",
      "execution_count": 37,
      "metadata": {
        "colab": {
          "base_uri": "https://localhost:8080/",
          "height": 527
        },
        "id": "D9Y0L0FlWaox",
        "outputId": "0728a3ad-deb9-4ded-98cd-aa674123f02a"
      },
      "outputs": [
        {
          "data": {
            "text/html": [
              "<pre style=\"white-space:pre;overflow-x:auto;line-height:normal;font-family:Menlo,'DejaVu Sans Mono',consolas,'Courier New',monospace\"><span style=\"font-weight: bold\">Model: \"sequential\"</span>\n",
              "</pre>\n"
            ],
            "text/plain": [
              "\u001b[1mModel: \"sequential\"\u001b[0m\n"
            ]
          },
          "metadata": {},
          "output_type": "display_data"
        },
        {
          "data": {
            "text/html": [
              "<pre style=\"white-space:pre;overflow-x:auto;line-height:normal;font-family:Menlo,'DejaVu Sans Mono',consolas,'Courier New',monospace\">┏━━━━━━━━━━━━━━━━━━━━━━━━━━━━━━━━━━━━━━┳━━━━━━━━━━━━━━━━━━━━━━━━━━━━━┳━━━━━━━━━━━━━━━━━┓\n",
              "┃<span style=\"font-weight: bold\"> Layer (type)                         </span>┃<span style=\"font-weight: bold\"> Output Shape                </span>┃<span style=\"font-weight: bold\">         Param # </span>┃\n",
              "┡━━━━━━━━━━━━━━━━━━━━━━━━━━━━━━━━━━━━━━╇━━━━━━━━━━━━━━━━━━━━━━━━━━━━━╇━━━━━━━━━━━━━━━━━┩\n",
              "│ dense (<span style=\"color: #0087ff; text-decoration-color: #0087ff\">Dense</span>)                        │ (<span style=\"color: #00d7ff; text-decoration-color: #00d7ff\">None</span>, <span style=\"color: #00af00; text-decoration-color: #00af00\">32</span>)                  │             <span style=\"color: #00af00; text-decoration-color: #00af00\">800</span> │\n",
              "├──────────────────────────────────────┼─────────────────────────────┼─────────────────┤\n",
              "│ dropout (<span style=\"color: #0087ff; text-decoration-color: #0087ff\">Dropout</span>)                    │ (<span style=\"color: #00d7ff; text-decoration-color: #00d7ff\">None</span>, <span style=\"color: #00af00; text-decoration-color: #00af00\">32</span>)                  │               <span style=\"color: #00af00; text-decoration-color: #00af00\">0</span> │\n",
              "├──────────────────────────────────────┼─────────────────────────────┼─────────────────┤\n",
              "│ batch_normalization                  │ (<span style=\"color: #00d7ff; text-decoration-color: #00d7ff\">None</span>, <span style=\"color: #00af00; text-decoration-color: #00af00\">32</span>)                  │             <span style=\"color: #00af00; text-decoration-color: #00af00\">128</span> │\n",
              "│ (<span style=\"color: #0087ff; text-decoration-color: #0087ff\">BatchNormalization</span>)                 │                             │                 │\n",
              "├──────────────────────────────────────┼─────────────────────────────┼─────────────────┤\n",
              "│ dense_1 (<span style=\"color: #0087ff; text-decoration-color: #0087ff\">Dense</span>)                      │ (<span style=\"color: #00d7ff; text-decoration-color: #00d7ff\">None</span>, <span style=\"color: #00af00; text-decoration-color: #00af00\">64</span>)                  │           <span style=\"color: #00af00; text-decoration-color: #00af00\">2,112</span> │\n",
              "├──────────────────────────────────────┼─────────────────────────────┼─────────────────┤\n",
              "│ dropout_1 (<span style=\"color: #0087ff; text-decoration-color: #0087ff\">Dropout</span>)                  │ (<span style=\"color: #00d7ff; text-decoration-color: #00d7ff\">None</span>, <span style=\"color: #00af00; text-decoration-color: #00af00\">64</span>)                  │               <span style=\"color: #00af00; text-decoration-color: #00af00\">0</span> │\n",
              "├──────────────────────────────────────┼─────────────────────────────┼─────────────────┤\n",
              "│ batch_normalization_1                │ (<span style=\"color: #00d7ff; text-decoration-color: #00d7ff\">None</span>, <span style=\"color: #00af00; text-decoration-color: #00af00\">64</span>)                  │             <span style=\"color: #00af00; text-decoration-color: #00af00\">256</span> │\n",
              "│ (<span style=\"color: #0087ff; text-decoration-color: #0087ff\">BatchNormalization</span>)                 │                             │                 │\n",
              "├──────────────────────────────────────┼─────────────────────────────┼─────────────────┤\n",
              "│ dense_2 (<span style=\"color: #0087ff; text-decoration-color: #0087ff\">Dense</span>)                      │ (<span style=\"color: #00d7ff; text-decoration-color: #00d7ff\">None</span>, <span style=\"color: #00af00; text-decoration-color: #00af00\">128</span>)                 │           <span style=\"color: #00af00; text-decoration-color: #00af00\">8,320</span> │\n",
              "├──────────────────────────────────────┼─────────────────────────────┼─────────────────┤\n",
              "│ dropout_2 (<span style=\"color: #0087ff; text-decoration-color: #0087ff\">Dropout</span>)                  │ (<span style=\"color: #00d7ff; text-decoration-color: #00d7ff\">None</span>, <span style=\"color: #00af00; text-decoration-color: #00af00\">128</span>)                 │               <span style=\"color: #00af00; text-decoration-color: #00af00\">0</span> │\n",
              "├──────────────────────────────────────┼─────────────────────────────┼─────────────────┤\n",
              "│ batch_normalization_2                │ (<span style=\"color: #00d7ff; text-decoration-color: #00d7ff\">None</span>, <span style=\"color: #00af00; text-decoration-color: #00af00\">128</span>)                 │             <span style=\"color: #00af00; text-decoration-color: #00af00\">512</span> │\n",
              "│ (<span style=\"color: #0087ff; text-decoration-color: #0087ff\">BatchNormalization</span>)                 │                             │                 │\n",
              "├──────────────────────────────────────┼─────────────────────────────┼─────────────────┤\n",
              "│ dense_3 (<span style=\"color: #0087ff; text-decoration-color: #0087ff\">Dense</span>)                      │ (<span style=\"color: #00d7ff; text-decoration-color: #00d7ff\">None</span>, <span style=\"color: #00af00; text-decoration-color: #00af00\">1</span>)                   │             <span style=\"color: #00af00; text-decoration-color: #00af00\">129</span> │\n",
              "└──────────────────────────────────────┴─────────────────────────────┴─────────────────┘\n",
              "</pre>\n"
            ],
            "text/plain": [
              "┏━━━━━━━━━━━━━━━━━━━━━━━━━━━━━━━━━━━━━━┳━━━━━━━━━━━━━━━━━━━━━━━━━━━━━┳━━━━━━━━━━━━━━━━━┓\n",
              "┃\u001b[1m \u001b[0m\u001b[1mLayer (type)                        \u001b[0m\u001b[1m \u001b[0m┃\u001b[1m \u001b[0m\u001b[1mOutput Shape               \u001b[0m\u001b[1m \u001b[0m┃\u001b[1m \u001b[0m\u001b[1m        Param #\u001b[0m\u001b[1m \u001b[0m┃\n",
              "┡━━━━━━━━━━━━━━━━━━━━━━━━━━━━━━━━━━━━━━╇━━━━━━━━━━━━━━━━━━━━━━━━━━━━━╇━━━━━━━━━━━━━━━━━┩\n",
              "│ dense (\u001b[38;5;33mDense\u001b[0m)                        │ (\u001b[38;5;45mNone\u001b[0m, \u001b[38;5;34m32\u001b[0m)                  │             \u001b[38;5;34m800\u001b[0m │\n",
              "├──────────────────────────────────────┼─────────────────────────────┼─────────────────┤\n",
              "│ dropout (\u001b[38;5;33mDropout\u001b[0m)                    │ (\u001b[38;5;45mNone\u001b[0m, \u001b[38;5;34m32\u001b[0m)                  │               \u001b[38;5;34m0\u001b[0m │\n",
              "├──────────────────────────────────────┼─────────────────────────────┼─────────────────┤\n",
              "│ batch_normalization                  │ (\u001b[38;5;45mNone\u001b[0m, \u001b[38;5;34m32\u001b[0m)                  │             \u001b[38;5;34m128\u001b[0m │\n",
              "│ (\u001b[38;5;33mBatchNormalization\u001b[0m)                 │                             │                 │\n",
              "├──────────────────────────────────────┼─────────────────────────────┼─────────────────┤\n",
              "│ dense_1 (\u001b[38;5;33mDense\u001b[0m)                      │ (\u001b[38;5;45mNone\u001b[0m, \u001b[38;5;34m64\u001b[0m)                  │           \u001b[38;5;34m2,112\u001b[0m │\n",
              "├──────────────────────────────────────┼─────────────────────────────┼─────────────────┤\n",
              "│ dropout_1 (\u001b[38;5;33mDropout\u001b[0m)                  │ (\u001b[38;5;45mNone\u001b[0m, \u001b[38;5;34m64\u001b[0m)                  │               \u001b[38;5;34m0\u001b[0m │\n",
              "├──────────────────────────────────────┼─────────────────────────────┼─────────────────┤\n",
              "│ batch_normalization_1                │ (\u001b[38;5;45mNone\u001b[0m, \u001b[38;5;34m64\u001b[0m)                  │             \u001b[38;5;34m256\u001b[0m │\n",
              "│ (\u001b[38;5;33mBatchNormalization\u001b[0m)                 │                             │                 │\n",
              "├──────────────────────────────────────┼─────────────────────────────┼─────────────────┤\n",
              "│ dense_2 (\u001b[38;5;33mDense\u001b[0m)                      │ (\u001b[38;5;45mNone\u001b[0m, \u001b[38;5;34m128\u001b[0m)                 │           \u001b[38;5;34m8,320\u001b[0m │\n",
              "├──────────────────────────────────────┼─────────────────────────────┼─────────────────┤\n",
              "│ dropout_2 (\u001b[38;5;33mDropout\u001b[0m)                  │ (\u001b[38;5;45mNone\u001b[0m, \u001b[38;5;34m128\u001b[0m)                 │               \u001b[38;5;34m0\u001b[0m │\n",
              "├──────────────────────────────────────┼─────────────────────────────┼─────────────────┤\n",
              "│ batch_normalization_2                │ (\u001b[38;5;45mNone\u001b[0m, \u001b[38;5;34m128\u001b[0m)                 │             \u001b[38;5;34m512\u001b[0m │\n",
              "│ (\u001b[38;5;33mBatchNormalization\u001b[0m)                 │                             │                 │\n",
              "├──────────────────────────────────────┼─────────────────────────────┼─────────────────┤\n",
              "│ dense_3 (\u001b[38;5;33mDense\u001b[0m)                      │ (\u001b[38;5;45mNone\u001b[0m, \u001b[38;5;34m1\u001b[0m)                   │             \u001b[38;5;34m129\u001b[0m │\n",
              "└──────────────────────────────────────┴─────────────────────────────┴─────────────────┘\n"
            ]
          },
          "metadata": {},
          "output_type": "display_data"
        },
        {
          "data": {
            "text/html": [
              "<pre style=\"white-space:pre;overflow-x:auto;line-height:normal;font-family:Menlo,'DejaVu Sans Mono',consolas,'Courier New',monospace\"><span style=\"font-weight: bold\"> Total params: </span><span style=\"color: #00af00; text-decoration-color: #00af00\">12,257</span> (47.88 KB)\n",
              "</pre>\n"
            ],
            "text/plain": [
              "\u001b[1m Total params: \u001b[0m\u001b[38;5;34m12,257\u001b[0m (47.88 KB)\n"
            ]
          },
          "metadata": {},
          "output_type": "display_data"
        },
        {
          "data": {
            "text/html": [
              "<pre style=\"white-space:pre;overflow-x:auto;line-height:normal;font-family:Menlo,'DejaVu Sans Mono',consolas,'Courier New',monospace\"><span style=\"font-weight: bold\"> Trainable params: </span><span style=\"color: #00af00; text-decoration-color: #00af00\">11,809</span> (46.13 KB)\n",
              "</pre>\n"
            ],
            "text/plain": [
              "\u001b[1m Trainable params: \u001b[0m\u001b[38;5;34m11,809\u001b[0m (46.13 KB)\n"
            ]
          },
          "metadata": {},
          "output_type": "display_data"
        },
        {
          "data": {
            "text/html": [
              "<pre style=\"white-space:pre;overflow-x:auto;line-height:normal;font-family:Menlo,'DejaVu Sans Mono',consolas,'Courier New',monospace\"><span style=\"font-weight: bold\"> Non-trainable params: </span><span style=\"color: #00af00; text-decoration-color: #00af00\">448</span> (1.75 KB)\n",
              "</pre>\n"
            ],
            "text/plain": [
              "\u001b[1m Non-trainable params: \u001b[0m\u001b[38;5;34m448\u001b[0m (1.75 KB)\n"
            ]
          },
          "metadata": {},
          "output_type": "display_data"
        }
      ],
      "source": [
        "model.summary()"
      ]
    },
    {
      "cell_type": "markdown",
      "metadata": {
        "id": "Ffw3qVvP8ZdJ"
      },
      "source": [
        "###Compile the model"
      ]
    },
    {
      "cell_type": "code",
      "execution_count": 38,
      "metadata": {
        "colab": {
          "base_uri": "https://localhost:8080/"
        },
        "id": "0YN1adTdW5By",
        "outputId": "3451bf47-25c2-42cb-e932-572f66199e54"
      },
      "outputs": [
        {
          "name": "stdout",
          "output_type": "stream",
          "text": [
            "model compiled\n"
          ]
        }
      ],
      "source": [
        "model.compile(optimizer='adam',loss='binary_crossentropy',metrics=['accuracy'])\n",
        "print('model compiled')"
      ]
    },
    {
      "cell_type": "code",
      "execution_count": 39,
      "metadata": {
        "colab": {
          "base_uri": "https://localhost:8080/"
        },
        "id": "0KsiGlwnW7me",
        "outputId": "7809a3eb-ed15-44da-ebef-afed6cd8a58c"
      },
      "outputs": [
        {
          "name": "stdout",
          "output_type": "stream",
          "text": [
            "Epoch 1/50\n",
            "\u001b[1m1810/1810\u001b[0m \u001b[32m━━━━━━━━━━━━━━━━━━━━\u001b[0m\u001b[37m\u001b[0m \u001b[1m0s\u001b[0m 4ms/step - accuracy: 0.6243 - loss: 0.7606\n",
            "Epoch 1: val_loss improved from inf to 0.63880, saving model to best_model.h5\n"
          ]
        },
        {
          "name": "stderr",
          "output_type": "stream",
          "text": [
            "WARNING:absl:You are saving your model as an HDF5 file via `model.save()` or `keras.saving.save_model(model)`. This file format is considered legacy. We recommend using instead the native Keras format, e.g. `model.save('my_model.keras')` or `keras.saving.save_model(model, 'my_model.keras')`. \n"
          ]
        },
        {
          "name": "stdout",
          "output_type": "stream",
          "text": [
            "\b\b\b\b\b\b\b\b\b\b\b\b\b\b\b\b\b\b\b\b\b\b\b\b\b\b\b\b\b\b\b\b\b\b\b\b\b\b\b\b\b\b\b\b\b\b\b\b\b\b\b\b\b\b\b\b\b\b\b\b\b\b\b\b\b\b\b\b\b\b\b\b\b\b\b\b\r\u001b[1m1810/1810\u001b[0m \u001b[32m━━━━━━━━━━━━━━━━━━━━\u001b[0m\u001b[37m\u001b[0m \u001b[1m17s\u001b[0m 6ms/step - accuracy: 0.6243 - loss: 0.7605 - val_accuracy: 0.6572 - val_loss: 0.6388\n",
            "Epoch 2/50\n",
            "\u001b[1m1797/1810\u001b[0m \u001b[32m━━━━━━━━━━━━━━━━━━━\u001b[0m\u001b[37m━\u001b[0m \u001b[1m0s\u001b[0m 3ms/step - accuracy: 0.6541 - loss: 0.6356\n",
            "Epoch 2: val_loss improved from 0.63880 to 0.62524, saving model to best_model.h5\n"
          ]
        },
        {
          "name": "stderr",
          "output_type": "stream",
          "text": [
            "WARNING:absl:You are saving your model as an HDF5 file via `model.save()` or `keras.saving.save_model(model)`. This file format is considered legacy. We recommend using instead the native Keras format, e.g. `model.save('my_model.keras')` or `keras.saving.save_model(model, 'my_model.keras')`. \n"
          ]
        },
        {
          "name": "stdout",
          "output_type": "stream",
          "text": [
            "\b\b\b\b\b\b\b\b\b\b\b\b\b\b\b\b\b\b\b\b\b\b\b\b\b\b\b\b\b\b\b\b\b\b\b\b\b\b\b\b\b\b\b\b\b\b\b\b\b\b\b\b\b\b\b\b\b\b\b\b\b\b\b\b\b\b\b\b\b\b\b\b\b\b\b\b\r\u001b[1m1810/1810\u001b[0m \u001b[32m━━━━━━━━━━━━━━━━━━━━\u001b[0m\u001b[37m\u001b[0m \u001b[1m6s\u001b[0m 3ms/step - accuracy: 0.6541 - loss: 0.6356 - val_accuracy: 0.6582 - val_loss: 0.6252\n",
            "Epoch 3/50\n",
            "\u001b[1m1802/1810\u001b[0m \u001b[32m━━━━━━━━━━━━━━━━━━━\u001b[0m\u001b[37m━\u001b[0m \u001b[1m0s\u001b[0m 2ms/step - accuracy: 0.6571 - loss: 0.6268\n",
            "Epoch 3: val_loss did not improve from 0.62524\n",
            "\u001b[1m1810/1810\u001b[0m \u001b[32m━━━━━━━━━━━━━━━━━━━━\u001b[0m\u001b[37m\u001b[0m \u001b[1m7s\u001b[0m 4ms/step - accuracy: 0.6571 - loss: 0.6268 - val_accuracy: 0.6573 - val_loss: 0.6253\n",
            "Epoch 4/50\n",
            "\u001b[1m1790/1810\u001b[0m \u001b[32m━━━━━━━━━━━━━━━━━━━\u001b[0m\u001b[37m━\u001b[0m \u001b[1m0s\u001b[0m 3ms/step - accuracy: 0.6554 - loss: 0.6266\n",
            "Epoch 4: val_loss improved from 0.62524 to 0.62465, saving model to best_model.h5\n"
          ]
        },
        {
          "name": "stderr",
          "output_type": "stream",
          "text": [
            "WARNING:absl:You are saving your model as an HDF5 file via `model.save()` or `keras.saving.save_model(model)`. This file format is considered legacy. We recommend using instead the native Keras format, e.g. `model.save('my_model.keras')` or `keras.saving.save_model(model, 'my_model.keras')`. \n"
          ]
        },
        {
          "name": "stdout",
          "output_type": "stream",
          "text": [
            "\b\b\b\b\b\b\b\b\b\b\b\b\b\b\b\b\b\b\b\b\b\b\b\b\b\b\b\b\b\b\b\b\b\b\b\b\b\b\b\b\b\b\b\b\b\b\b\b\b\b\b\b\b\b\b\b\b\b\b\b\b\b\b\b\b\b\b\b\b\b\b\b\b\b\b\b\r\u001b[1m1810/1810\u001b[0m \u001b[32m━━━━━━━━━━━━━━━━━━━━\u001b[0m\u001b[37m\u001b[0m \u001b[1m9s\u001b[0m 3ms/step - accuracy: 0.6554 - loss: 0.6266 - val_accuracy: 0.6590 - val_loss: 0.6247\n",
            "Epoch 5/50\n",
            "\u001b[1m1808/1810\u001b[0m \u001b[32m━━━━━━━━━━━━━━━━━━━\u001b[0m\u001b[37m━\u001b[0m \u001b[1m0s\u001b[0m 3ms/step - accuracy: 0.6562 - loss: 0.6256\n",
            "Epoch 5: val_loss improved from 0.62465 to 0.62283, saving model to best_model.h5\n"
          ]
        },
        {
          "name": "stderr",
          "output_type": "stream",
          "text": [
            "WARNING:absl:You are saving your model as an HDF5 file via `model.save()` or `keras.saving.save_model(model)`. This file format is considered legacy. We recommend using instead the native Keras format, e.g. `model.save('my_model.keras')` or `keras.saving.save_model(model, 'my_model.keras')`. \n"
          ]
        },
        {
          "name": "stdout",
          "output_type": "stream",
          "text": [
            "\b\b\b\b\b\b\b\b\b\b\b\b\b\b\b\b\b\b\b\b\b\b\b\b\b\b\b\b\b\b\b\b\b\b\b\b\b\b\b\b\b\b\b\b\b\b\b\b\b\b\b\b\b\b\b\b\b\b\b\b\b\b\b\b\b\b\b\b\b\b\b\b\b\b\b\b\r\u001b[1m1810/1810\u001b[0m \u001b[32m━━━━━━━━━━━━━━━━━━━━\u001b[0m\u001b[37m\u001b[0m \u001b[1m7s\u001b[0m 4ms/step - accuracy: 0.6562 - loss: 0.6256 - val_accuracy: 0.6586 - val_loss: 0.6228\n",
            "Epoch 6/50\n",
            "\u001b[1m1796/1810\u001b[0m \u001b[32m━━━━━━━━━━━━━━━━━━━\u001b[0m\u001b[37m━\u001b[0m \u001b[1m0s\u001b[0m 3ms/step - accuracy: 0.6583 - loss: 0.6241\n",
            "Epoch 6: val_loss improved from 0.62283 to 0.62257, saving model to best_model.h5\n"
          ]
        },
        {
          "name": "stderr",
          "output_type": "stream",
          "text": [
            "WARNING:absl:You are saving your model as an HDF5 file via `model.save()` or `keras.saving.save_model(model)`. This file format is considered legacy. We recommend using instead the native Keras format, e.g. `model.save('my_model.keras')` or `keras.saving.save_model(model, 'my_model.keras')`. \n"
          ]
        },
        {
          "name": "stdout",
          "output_type": "stream",
          "text": [
            "\b\b\b\b\b\b\b\b\b\b\b\b\b\b\b\b\b\b\b\b\b\b\b\b\b\b\b\b\b\b\b\b\b\b\b\b\b\b\b\b\b\b\b\b\b\b\b\b\b\b\b\b\b\b\b\b\b\b\b\b\b\b\b\b\b\b\b\b\b\b\b\b\b\b\b\b\r\u001b[1m1810/1810\u001b[0m \u001b[32m━━━━━━━━━━━━━━━━━━━━\u001b[0m\u001b[37m\u001b[0m \u001b[1m10s\u001b[0m 4ms/step - accuracy: 0.6583 - loss: 0.6241 - val_accuracy: 0.6592 - val_loss: 0.6226\n",
            "Epoch 7/50\n",
            "\u001b[1m1801/1810\u001b[0m \u001b[32m━━━━━━━━━━━━━━━━━━━\u001b[0m\u001b[37m━\u001b[0m \u001b[1m0s\u001b[0m 2ms/step - accuracy: 0.6561 - loss: 0.6246\n",
            "Epoch 7: val_loss did not improve from 0.62257\n",
            "\u001b[1m1810/1810\u001b[0m \u001b[32m━━━━━━━━━━━━━━━━━━━━\u001b[0m\u001b[37m\u001b[0m \u001b[1m9s\u001b[0m 3ms/step - accuracy: 0.6561 - loss: 0.6246 - val_accuracy: 0.6586 - val_loss: 0.6227\n",
            "Epoch 8/50\n",
            "\u001b[1m1790/1810\u001b[0m \u001b[32m━━━━━━━━━━━━━━━━━━━\u001b[0m\u001b[37m━\u001b[0m \u001b[1m0s\u001b[0m 2ms/step - accuracy: 0.6569 - loss: 0.6252\n",
            "Epoch 8: val_loss did not improve from 0.62257\n",
            "\u001b[1m1810/1810\u001b[0m \u001b[32m━━━━━━━━━━━━━━━━━━━━\u001b[0m\u001b[37m\u001b[0m \u001b[1m11s\u001b[0m 3ms/step - accuracy: 0.6569 - loss: 0.6252 - val_accuracy: 0.6595 - val_loss: 0.6226\n",
            "Epoch 9/50\n",
            "\u001b[1m1794/1810\u001b[0m \u001b[32m━━━━━━━━━━━━━━━━━━━\u001b[0m\u001b[37m━\u001b[0m \u001b[1m0s\u001b[0m 3ms/step - accuracy: 0.6566 - loss: 0.6249\n",
            "Epoch 9: val_loss did not improve from 0.62257\n",
            "\u001b[1m1810/1810\u001b[0m \u001b[32m━━━━━━━━━━━━━━━━━━━━\u001b[0m\u001b[37m\u001b[0m \u001b[1m7s\u001b[0m 4ms/step - accuracy: 0.6566 - loss: 0.6249 - val_accuracy: 0.6602 - val_loss: 0.6239\n",
            "Epoch 10/50\n",
            "\u001b[1m1793/1810\u001b[0m \u001b[32m━━━━━━━━━━━━━━━━━━━\u001b[0m\u001b[37m━\u001b[0m \u001b[1m0s\u001b[0m 3ms/step - accuracy: 0.6569 - loss: 0.6250\n",
            "Epoch 10: val_loss did not improve from 0.62257\n",
            "\u001b[1m1810/1810\u001b[0m \u001b[32m━━━━━━━━━━━━━━━━━━━━\u001b[0m\u001b[37m\u001b[0m \u001b[1m9s\u001b[0m 3ms/step - accuracy: 0.6569 - loss: 0.6250 - val_accuracy: 0.6590 - val_loss: 0.6254\n",
            "Epoch 11/50\n",
            "\u001b[1m1801/1810\u001b[0m \u001b[32m━━━━━━━━━━━━━━━━━━━\u001b[0m\u001b[37m━\u001b[0m \u001b[1m0s\u001b[0m 3ms/step - accuracy: 0.6580 - loss: 0.6244\n",
            "Epoch 11: val_loss improved from 0.62257 to 0.62252, saving model to best_model.h5\n"
          ]
        },
        {
          "name": "stderr",
          "output_type": "stream",
          "text": [
            "WARNING:absl:You are saving your model as an HDF5 file via `model.save()` or `keras.saving.save_model(model)`. This file format is considered legacy. We recommend using instead the native Keras format, e.g. `model.save('my_model.keras')` or `keras.saving.save_model(model, 'my_model.keras')`. \n"
          ]
        },
        {
          "name": "stdout",
          "output_type": "stream",
          "text": [
            "\b\b\b\b\b\b\b\b\b\b\b\b\b\b\b\b\b\b\b\b\b\b\b\b\b\b\b\b\b\b\b\b\b\b\b\b\b\b\b\b\b\b\b\b\b\b\b\b\b\b\b\b\b\b\b\b\b\b\b\b\b\b\b\b\b\b\b\b\b\b\b\b\b\b\b\b\r\u001b[1m1810/1810\u001b[0m \u001b[32m━━━━━━━━━━━━━━━━━━━━\u001b[0m\u001b[37m\u001b[0m \u001b[1m6s\u001b[0m 3ms/step - accuracy: 0.6580 - loss: 0.6244 - val_accuracy: 0.6589 - val_loss: 0.6225\n",
            "Epoch 12/50\n",
            "\u001b[1m1804/1810\u001b[0m \u001b[32m━━━━━━━━━━━━━━━━━━━\u001b[0m\u001b[37m━\u001b[0m \u001b[1m0s\u001b[0m 3ms/step - accuracy: 0.6572 - loss: 0.6237\n",
            "Epoch 12: val_loss improved from 0.62252 to 0.62238, saving model to best_model.h5\n"
          ]
        },
        {
          "name": "stderr",
          "output_type": "stream",
          "text": [
            "WARNING:absl:You are saving your model as an HDF5 file via `model.save()` or `keras.saving.save_model(model)`. This file format is considered legacy. We recommend using instead the native Keras format, e.g. `model.save('my_model.keras')` or `keras.saving.save_model(model, 'my_model.keras')`. \n"
          ]
        },
        {
          "name": "stdout",
          "output_type": "stream",
          "text": [
            "\b\b\b\b\b\b\b\b\b\b\b\b\b\b\b\b\b\b\b\b\b\b\b\b\b\b\b\b\b\b\b\b\b\b\b\b\b\b\b\b\b\b\b\b\b\b\b\b\b\b\b\b\b\b\b\b\b\b\b\b\b\b\b\b\b\b\b\b\b\b\b\b\b\b\b\b\r\u001b[1m1810/1810\u001b[0m \u001b[32m━━━━━━━━━━━━━━━━━━━━\u001b[0m\u001b[37m\u001b[0m \u001b[1m6s\u001b[0m 3ms/step - accuracy: 0.6572 - loss: 0.6237 - val_accuracy: 0.6594 - val_loss: 0.6224\n",
            "Epoch 12: early stopping\n"
          ]
        }
      ],
      "source": [
        "# set up early stopping and model checkpoint call backs and train the model.\n",
        "import warnings\n",
        "warnings.filterwarnings('ignore')\n",
        "\n",
        "from tensorflow.keras.callbacks import ModelCheckpoint\n",
        "from tensorflow.keras.callbacks import EarlyStopping\n",
        "early_stop=EarlyStopping(monitor='val_loss',mode='min',verbose=1,patience=10,min_delta=0.01)\n",
        "checkpoint=ModelCheckpoint('best_model.h5',monitor='val_loss',mode='min',verbose=1,save_best_only=True)\n",
        "history=model.fit(X_train,y_train,\n",
        "                  epochs=50,batch_size=250,\n",
        "                  validation_data=(X_test,y_test),\n",
        "                  callbacks=[early_stop,checkpoint])"
      ]
    },
    {
      "cell_type": "code",
      "execution_count": 40,
      "metadata": {
        "colab": {
          "base_uri": "https://localhost:8080/"
        },
        "id": "tirBCIm3fY-G",
        "outputId": "975c80eb-ad8b-49a6-feb1-1bed1ebae54f"
      },
      "outputs": [
        {
          "name": "stdout",
          "output_type": "stream",
          "text": [
            "\u001b[1m3534/3534\u001b[0m \u001b[32m━━━━━━━━━━━━━━━━━━━━\u001b[0m\u001b[37m\u001b[0m \u001b[1m9s\u001b[0m 3ms/step - accuracy: 0.6594 - loss: 0.6227\n",
            "test loss 0.6223814487457275\n",
            "test accuracy 0.6593676805496216\n",
            "\u001b[1m14135/14135\u001b[0m \u001b[32m━━━━━━━━━━━━━━━━━━━━\u001b[0m\u001b[37m\u001b[0m \u001b[1m32s\u001b[0m 2ms/step - accuracy: 0.6625 - loss: 0.6192\n",
            "train loss 0.620086133480072\n",
            "train accuracy 0.6611164808273315\n"
          ]
        }
      ],
      "source": [
        "score=model.evaluate(X_test,y_test)\n",
        "print('test loss',score[0])\n",
        "print('test accuracy',score[1])\n",
        "score=model.evaluate(X_train,y_train)\n",
        "print('train loss',score[0])\n",
        "print('train accuracy',score[1])"
      ]
    },
    {
      "cell_type": "code",
      "execution_count": 41,
      "metadata": {
        "colab": {
          "base_uri": "https://localhost:8080/",
          "height": 607
        },
        "id": "K796_KRxfx-v",
        "outputId": "5c698c5d-e977-4047-9c16-1bd27170a5de"
      },
      "outputs": [
        {
          "data": {
            "image/png": "[encoded data removed]",
            "text/plain": [
              "<Figure size 1000x600 with 2 Axes>"
            ]
          },
          "metadata": {},
          "output_type": "display_data"
        }
      ],
      "source": [
        "\n",
        "plt.figure(figsize=(10,6))\n",
        "# accuracy chart\n",
        "plt.subplot(1,2,1)\n",
        "plt.plot(history.history['accuracy'])\n",
        "plt.plot(history.history['val_accuracy'])\n",
        "plt.title('model accuracy')\n",
        "plt.ylabel('accuracy')\n",
        "plt.xlabel('epoch')\n",
        "plt.legend(['train','test'],loc='upper left')\n",
        "\n",
        "# loss chart\n",
        "plt.subplot(1,2,2)\n",
        "plt.plot(history.history['loss'])\n",
        "plt.plot(history.history['val_loss'])\n",
        "plt.title('model loss')\n",
        "plt.ylabel('loss')\n",
        "plt.xlabel('epoch')\n",
        "plt.legend(['train','test'],loc='upper right')\n",
        "plt.tight_layout()\n",
        "plt.show()"
      ]
    },
    {
      "cell_type": "markdown",
      "metadata": {
        "id": "JhLDfL21-H9P"
      },
      "source": [
        "##Metrics"
      ]
    },
    {
      "cell_type": "code",
      "execution_count": 102,
      "metadata": {
        "colab": {
          "base_uri": "https://localhost:8080/"
        },
        "id": "MrMOigcW-QVy",
        "outputId": "241bd20b-6244-4217-bcf9-6f12be800b1a"
      },
      "outputs": [
        {
          "name": "stdout",
          "output_type": "stream",
          "text": [
            "\u001b[1m3534/3534\u001b[0m \u001b[32m━━━━━━━━━━━━━━━━━━━━\u001b[0m\u001b[37m\u001b[0m \u001b[1m6s\u001b[0m 2ms/step\n"
          ]
        },
        {
          "data": {
            "text/plain": [
              "array([0.59114134], dtype=float32)"
            ]
          },
          "execution_count": 102,
          "metadata": {},
          "output_type": "execute_result"
        }
      ],
      "source": [
        "from sklearn.metrics import confusion_matrix,ConfusionMatrixDisplay,accuracy_score,classification_report\n",
        "import tensorflow as tf\n",
        "predictions = model.predict(X_test)"
      ]
    },
    {
      "cell_type": "code",
      "execution_count": 106,
      "metadata": {
        "id": "zv5hMDs5ALLa"
      },
      "outputs": [],
      "source": [
        "score = tf.nn.sigmoid(predictions).numpy()\n",
        "y_pred = []\n",
        "y_pred_proba = []\n",
        "for i in range(len(score)):\n",
        "  y_pred_proba.append(score[i])\n",
        "  if score[i] > 0.62:\n",
        "    y_pred.append(1)\n",
        "  else:\n",
        "    y_pred.append(0)"
      ]
    },
    {
      "cell_type": "markdown",
      "metadata": {
        "id": "xRnRBL2tICMM"
      },
      "source": [
        "###Confusion Matrix and Classification Report"
      ]
    },
    {
      "cell_type": "code",
      "execution_count": 100,
      "metadata": {
        "colab": {
          "base_uri": "https://localhost:8080/",
          "height": 698
        },
        "id": "PPK7pBiOHv26",
        "outputId": "a9afb4d2-70e7-4806-c88d-94703efa25f0"
      },
      "outputs": [
        {
          "name": "stdout",
          "output_type": "stream",
          "text": [
            "Confusion Matrix Displayed\n",
            "\n"
          ]
        },
        {
          "data": {
            "image/png": "[encoded data removed]",
            "text/plain": [
              "<Figure size 640x480 with 2 Axes>"
            ]
          },
          "metadata": {},
          "output_type": "display_data"
        },
        {
          "name": "stdout",
          "output_type": "stream",
          "text": [
            "Classification Report:\n",
            "              precision    recall  f1-score   support\n",
            "\n",
            "           0       0.67      0.63      0.65     56439\n",
            "           1       0.65      0.69      0.67     56636\n",
            "\n",
            "    accuracy                           0.66    113075\n",
            "   macro avg       0.66      0.66      0.66    113075\n",
            "weighted avg       0.66      0.66      0.66    113075\n",
            "\n",
            "Sensitivity = 0.6889\n"
          ]
        }
      ],
      "source": [
        "cm = confusion_matrix(y_test,y_pred)\n",
        "\n",
        "print('Confusion Matrix Displayed\\n')\n",
        "disp = ConfusionMatrixDisplay(confusion_matrix=cm, display_labels=['Paid','Defaulted'])\n",
        "disp.plot()\n",
        "plt.title('Confusion Matrix')\n",
        "plt.show()\n",
        "cl_report = classification_report(y_test,y_pred)\n",
        "print('Classification Report:')\n",
        "print(cl_report)\n",
        "\n"
      ]
    },
    {
      "cell_type": "markdown",
      "metadata": {
        "id": "rQgEGegOJDLg"
      },
      "source": [
        "###Sensitivity"
      ]
    },
    {
      "cell_type": "code",
      "execution_count": 101,
      "metadata": {
        "colab": {
          "base_uri": "https://localhost:8080/"
        },
        "id": "AFNuKcxzJG6P",
        "outputId": "8a13e0f5-a9d9-44e6-bcf1-49ed3b9fca09"
      },
      "outputs": [
        {
          "name": "stdout",
          "output_type": "stream",
          "text": [
            "Sensitivity = 0.6889\n"
          ]
        }
      ],
      "source": [
        "# calculate sensitivity\n",
        "TN = cm[0][0]\n",
        "FP = cm[0][1]\n",
        "FN = cm[1][0]\n",
        "TP = cm[1][1]\n",
        "\n",
        "sensitivity = TP/(TP+FN)\n",
        "\n",
        "print(f'Sensitivity = {sensitivity:.4f}')"
      ]
    },
    {
      "cell_type": "markdown",
      "metadata": {
        "id": "QbExrERgIfKV"
      },
      "source": [
        "###ROC AUC curve"
      ]
    },
    {
      "cell_type": "code",
      "execution_count": 107,
      "metadata": {
        "colab": {
          "base_uri": "https://localhost:8080/",
          "height": 507
        },
        "id": "E66xLxJ2HsaF",
        "outputId": "6f43f446-516e-422d-fd47-f3d6743ae433"
      },
      "outputs": [
        {
          "name": "stdout",
          "output_type": "stream",
          "text": [
            "auc = 0.7159254091615231\n",
            "\n"
          ]
        },
        {
          "data": {
            "image/png": "[encoded data removed]",
            "text/plain": [
              "<Figure size 640x480 with 1 Axes>"
            ]
          },
          "metadata": {},
          "output_type": "display_data"
        }
      ],
      "source": [
        "#ROC\n",
        "from sklearn.metrics import roc_curve,auc\n",
        "fpr,tpr,threshold = roc_curve(y_test, y_pred_proba)\n",
        "area_under_curve = auc(fpr,tpr)\n",
        "print('auc = {}\\n'.format(area_under_curve))\n",
        "plt.plot(fpr,tpr,label=f'ROC curve , AUC = {area_under_curve:.4f}')\n",
        "plt.plot([0,1],[0,1],linestyle='--',color='gray')\n",
        "plt.xlabel('FPR')\n",
        "plt.ylabel('TPR')\n",
        "title_ = 'ROC curve for various thresholds'\n",
        "plt.title(title_)\n",
        "plt.legend(loc = 'lower right')\n",
        "plt.show()\n"
      ]
    },
    {
      "cell_type": "markdown",
      "metadata": {
        "id": "WRh7Gdqybvwe"
      },
      "source": [
        "##Prediction using Random Forest Classifier"
      ]
    },
    {
      "cell_type": "code",
      "execution_count": 109,
      "metadata": {
        "colab": {
          "base_uri": "https://localhost:8080/"
        },
        "id": "h7nSabYJkA4a",
        "outputId": "632887ae-b3b9-4342-f417-82c435412607"
      },
      "outputs": [
        {
          "name": "stdout",
          "output_type": "stream",
          "text": [
            "0.9972584567764758\n"
          ]
        }
      ],
      "source": [
        "from sklearn.ensemble import RandomForestClassifier\n",
        "from sklearn.metrics import classification_report,accuracy_score\n",
        "rf=RandomForestClassifier()\n",
        "rf.fit(X_train,y_train)\n",
        "y_pred=rf.predict(X_test)\n",
        "print(accuracy_score(y_test,y_pred))"
      ]
    },
    {
      "cell_type": "markdown",
      "metadata": {
        "id": "aERE0NO-ezol"
      },
      "source": [
        "###Confusion Matrix and Classification Report"
      ]
    },
    {
      "cell_type": "code",
      "execution_count": 110,
      "metadata": {
        "colab": {
          "base_uri": "https://localhost:8080/",
          "height": 698
        },
        "id": "pK7jGZXJe7_f",
        "outputId": "6159b10f-c3f4-4436-9654-25eb4a1a14d1"
      },
      "outputs": [
        {
          "name": "stdout",
          "output_type": "stream",
          "text": [
            "confusion matrix\n",
            " [[56133   306]\n",
            " [    4 56632]]\n"
          ]
        },
        {
          "data": {
            "image/png": "[encoded data removed]",
            "text/plain": [
              "<Figure size 640x480 with 2 Axes>"
            ]
          },
          "metadata": {},
          "output_type": "display_data"
        },
        {
          "name": "stdout",
          "output_type": "stream",
          "text": [
            "Classification Report:\n",
            "              precision    recall  f1-score   support\n",
            "\n",
            "           0       1.00      0.99      1.00     56439\n",
            "           1       0.99      1.00      1.00     56636\n",
            "\n",
            "    accuracy                           1.00    113075\n",
            "   macro avg       1.00      1.00      1.00    113075\n",
            "weighted avg       1.00      1.00      1.00    113075\n",
            "\n"
          ]
        }
      ],
      "source": [
        "from sklearn.metrics import confusion_matrix, ConfusionMatrixDisplay\n",
        "cm = confusion_matrix(y_test,y_pred)\n",
        "print('confusion matrix\\n',cm)\n",
        "display_labels = ['Not Defaulted(0)','Defaulted(1)']\n",
        "disp = ConfusionMatrixDisplay(confusion_matrix=cm,display_labels=display_labels)\n",
        "disp.plot()\n",
        "plt.title('Confusion Matrix using Random Forest Classifier')\n",
        "plt.show()\n",
        "print('Classification Report:')\n",
        "print(classification_report(y_test,y_pred))"
      ]
    },
    {
      "cell_type": "markdown",
      "metadata": {
        "id": "WbtRnwCcLWMK"
      },
      "source": [
        "###Sensitivity"
      ]
    },
    {
      "cell_type": "code",
      "execution_count": 111,
      "metadata": {
        "colab": {
          "base_uri": "https://localhost:8080/"
        },
        "id": "OBZW0rANr9a3",
        "outputId": "2b668aa9-09e4-48ab-9c30-5f87a2fe9a05"
      },
      "outputs": [
        {
          "name": "stdout",
          "output_type": "stream",
          "text": [
            "Sensitivity = 0.9999\n"
          ]
        }
      ],
      "source": [
        "# calculate sensitivity\n",
        "TN = cm[0][0]\n",
        "FP = cm[0][1]\n",
        "FN = cm[1][0]\n",
        "TP = cm[1][1]\n",
        "\n",
        "sensitivity = TP/(TP+FN)\n",
        "\n",
        "print(f'Sensitivity = {sensitivity:.4f}')"
      ]
    },
    {
      "cell_type": "markdown",
      "metadata": {
        "id": "uheJNogLeRj1"
      },
      "source": [
        "##ROC-AUC Curve"
      ]
    },
    {
      "cell_type": "code",
      "execution_count": 112,
      "metadata": {
        "colab": {
          "base_uri": "https://localhost:8080/",
          "height": 507
        },
        "id": "dIbhF7FjmkQ0",
        "outputId": "3cbeaf76-ca3d-4439-c088-a8f813c41d81"
      },
      "outputs": [
        {
          "name": "stdout",
          "output_type": "stream",
          "text": [
            "auc = 0.9999527724129064\n",
            "\n"
          ]
        },
        {
          "data": {
            "image/png": "[encoded data removed]",
            "text/plain": [
              "<Figure size 640x480 with 1 Axes>"
            ]
          },
          "metadata": {},
          "output_type": "display_data"
        }
      ],
      "source": [
        "#ROC\n",
        "from sklearn.metrics import roc_curve,auc\n",
        "\n",
        "y_pred_test_prob = rf.predict_proba(X_test)\n",
        "y_pred_proba=y_pred_test_prob[:,1]\n",
        "fpr,tpr,threshold = roc_curve(y_test, y_pred_proba)\n",
        "area_under_curve = auc(fpr,tpr)\n",
        "print('auc = {}\\n'.format(area_under_curve))\n",
        "plt.plot(fpr,tpr,label=f'ROC curve , AUC = {area_under_curve:.4f}')\n",
        "plt.plot([0,1],[0,1],linestyle='--',color='gray')\n",
        "plt.xlabel('FPR')\n",
        "plt.ylabel('TPR')\n",
        "title_ = 'ROC curve for various thresholds'\n",
        "plt.title(title_)\n",
        "plt.legend(loc = 'lower right')\n",
        "plt.show()\n"
      ]
    },
    {
      "cell_type": "markdown",
      "metadata": {},
      "source": [
        "**Conclusion**\n",
        "\n",
        "For structured input data, classical ML models seem to outperform deep learning models"
      ]
    }
  ],
  "metadata": {
    "accelerator": "GPU",
    "colab": {
      "gpuType": "T4",
      "provenance": [],
      "toc_visible": true
    },
    "kernelspec": {
      "display_name": "Python 3",
      "name": "python3"
    },
    "language_info": {
      "name": "python"
    }
  },
  "nbformat": 4,
  "nbformat_minor": 0
}
